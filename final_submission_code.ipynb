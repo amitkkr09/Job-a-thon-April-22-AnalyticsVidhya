{
 "cells": [
  {
   "cell_type": "markdown",
   "id": "e5cb9ca7",
   "metadata": {},
   "source": [
    "### Packages"
   ]
  },
  {
   "cell_type": "code",
   "execution_count": 1,
   "id": "feeef7db",
   "metadata": {},
   "outputs": [],
   "source": [
    "import pandas as pd\n",
    "import numpy as np \n",
    "import matplotlib.pyplot as plt \n",
    "%matplotlib inline\n",
    "\n",
    "import seaborn as sns\n",
    "import copy\n",
    "import datetime\n",
    "\n",
    "from sklearn.metrics import mean_squared_error\n",
    "from math import sqrt\n",
    "from statistics import mean\n",
    "import math\n",
    "\n",
    "import warnings\n",
    "warnings.filterwarnings(\"ignore\")"
   ]
  },
  {
   "cell_type": "code",
   "execution_count": 2,
   "id": "c8c7b37c",
   "metadata": {},
   "outputs": [],
   "source": [
    "train_data = pd.read_csv(\"data/train_E1GspfA.csv\")\n",
    "valid_data = pd.read_csv(\"data/test_6QvDdzb.csv\")"
   ]
  },
  {
   "cell_type": "code",
   "execution_count": 3,
   "id": "dea29326",
   "metadata": {},
   "outputs": [
    {
     "name": "stdout",
     "output_type": "stream",
     "text": [
      "(18247, 3)\n"
     ]
    },
    {
     "data": {
      "text/html": [
       "<div>\n",
       "<style scoped>\n",
       "    .dataframe tbody tr th:only-of-type {\n",
       "        vertical-align: middle;\n",
       "    }\n",
       "\n",
       "    .dataframe tbody tr th {\n",
       "        vertical-align: top;\n",
       "    }\n",
       "\n",
       "    .dataframe thead th {\n",
       "        text-align: right;\n",
       "    }\n",
       "</style>\n",
       "<table border=\"1\" class=\"dataframe\">\n",
       "  <thead>\n",
       "    <tr style=\"text-align: right;\">\n",
       "      <th></th>\n",
       "      <th>date</th>\n",
       "      <th>hour</th>\n",
       "      <th>demand</th>\n",
       "    </tr>\n",
       "  </thead>\n",
       "  <tbody>\n",
       "    <tr>\n",
       "      <th>0</th>\n",
       "      <td>2018-08-18</td>\n",
       "      <td>9</td>\n",
       "      <td>91</td>\n",
       "    </tr>\n",
       "    <tr>\n",
       "      <th>1</th>\n",
       "      <td>2018-08-18</td>\n",
       "      <td>10</td>\n",
       "      <td>21</td>\n",
       "    </tr>\n",
       "    <tr>\n",
       "      <th>2</th>\n",
       "      <td>2018-08-18</td>\n",
       "      <td>13</td>\n",
       "      <td>23</td>\n",
       "    </tr>\n",
       "    <tr>\n",
       "      <th>3</th>\n",
       "      <td>2018-08-18</td>\n",
       "      <td>14</td>\n",
       "      <td>104</td>\n",
       "    </tr>\n",
       "    <tr>\n",
       "      <th>4</th>\n",
       "      <td>2018-08-18</td>\n",
       "      <td>15</td>\n",
       "      <td>81</td>\n",
       "    </tr>\n",
       "  </tbody>\n",
       "</table>\n",
       "</div>"
      ],
      "text/plain": [
       "         date  hour  demand\n",
       "0  2018-08-18     9      91\n",
       "1  2018-08-18    10      21\n",
       "2  2018-08-18    13      23\n",
       "3  2018-08-18    14     104\n",
       "4  2018-08-18    15      81"
      ]
     },
     "execution_count": 3,
     "metadata": {},
     "output_type": "execute_result"
    }
   ],
   "source": [
    "print(train_data.shape)\n",
    "train_data.head()"
   ]
  },
  {
   "cell_type": "code",
   "execution_count": 4,
   "id": "f8d6d5a3",
   "metadata": {},
   "outputs": [
    {
     "name": "stdout",
     "output_type": "stream",
     "text": [
      "<class 'pandas.core.frame.DataFrame'>\n",
      "RangeIndex: 18247 entries, 0 to 18246\n",
      "Data columns (total 3 columns):\n",
      " #   Column  Non-Null Count  Dtype \n",
      "---  ------  --------------  ----- \n",
      " 0   date    18247 non-null  object\n",
      " 1   hour    18247 non-null  int64 \n",
      " 2   demand  18247 non-null  int64 \n",
      "dtypes: int64(2), object(1)\n",
      "memory usage: 427.8+ KB\n"
     ]
    }
   ],
   "source": [
    "train_data.info()"
   ]
  },
  {
   "cell_type": "markdown",
   "id": "93aa6f40",
   "metadata": {},
   "source": [
    "### Performing Exploratory Data Analysis(EDA)"
   ]
  },
  {
   "cell_type": "code",
   "execution_count": 5,
   "id": "7a566b80",
   "metadata": {},
   "outputs": [],
   "source": [
    "eda_df=copy.deepcopy(train_data)"
   ]
  },
  {
   "cell_type": "code",
   "execution_count": 6,
   "id": "4625b1a0",
   "metadata": {},
   "outputs": [],
   "source": [
    "eda_df['date']=pd.to_datetime(eda_df['date'],format=\"%Y-%m-%d\")"
   ]
  },
  {
   "cell_type": "code",
   "execution_count": 7,
   "id": "cbf9671e",
   "metadata": {},
   "outputs": [],
   "source": [
    "eda_df['day']=eda_df['date'].dt.day\n",
    "eda_df['month']=eda_df['date'].dt.month\n",
    "eda_df['year']=eda_df['date'].dt.year"
   ]
  },
  {
   "cell_type": "code",
   "execution_count": 8,
   "id": "3f05ad08",
   "metadata": {},
   "outputs": [
    {
     "data": {
      "text/html": [
       "<div>\n",
       "<style scoped>\n",
       "    .dataframe tbody tr th:only-of-type {\n",
       "        vertical-align: middle;\n",
       "    }\n",
       "\n",
       "    .dataframe tbody tr th {\n",
       "        vertical-align: top;\n",
       "    }\n",
       "\n",
       "    .dataframe thead th {\n",
       "        text-align: right;\n",
       "    }\n",
       "</style>\n",
       "<table border=\"1\" class=\"dataframe\">\n",
       "  <thead>\n",
       "    <tr style=\"text-align: right;\">\n",
       "      <th></th>\n",
       "      <th>date</th>\n",
       "      <th>hour</th>\n",
       "      <th>demand</th>\n",
       "      <th>day</th>\n",
       "      <th>month</th>\n",
       "      <th>year</th>\n",
       "    </tr>\n",
       "  </thead>\n",
       "  <tbody>\n",
       "    <tr>\n",
       "      <th>0</th>\n",
       "      <td>2018-08-18</td>\n",
       "      <td>9</td>\n",
       "      <td>91</td>\n",
       "      <td>18</td>\n",
       "      <td>8</td>\n",
       "      <td>2018</td>\n",
       "    </tr>\n",
       "    <tr>\n",
       "      <th>1</th>\n",
       "      <td>2018-08-18</td>\n",
       "      <td>10</td>\n",
       "      <td>21</td>\n",
       "      <td>18</td>\n",
       "      <td>8</td>\n",
       "      <td>2018</td>\n",
       "    </tr>\n",
       "    <tr>\n",
       "      <th>2</th>\n",
       "      <td>2018-08-18</td>\n",
       "      <td>13</td>\n",
       "      <td>23</td>\n",
       "      <td>18</td>\n",
       "      <td>8</td>\n",
       "      <td>2018</td>\n",
       "    </tr>\n",
       "    <tr>\n",
       "      <th>3</th>\n",
       "      <td>2018-08-18</td>\n",
       "      <td>14</td>\n",
       "      <td>104</td>\n",
       "      <td>18</td>\n",
       "      <td>8</td>\n",
       "      <td>2018</td>\n",
       "    </tr>\n",
       "    <tr>\n",
       "      <th>4</th>\n",
       "      <td>2018-08-18</td>\n",
       "      <td>15</td>\n",
       "      <td>81</td>\n",
       "      <td>18</td>\n",
       "      <td>8</td>\n",
       "      <td>2018</td>\n",
       "    </tr>\n",
       "  </tbody>\n",
       "</table>\n",
       "</div>"
      ],
      "text/plain": [
       "        date  hour  demand  day  month  year\n",
       "0 2018-08-18     9      91   18      8  2018\n",
       "1 2018-08-18    10      21   18      8  2018\n",
       "2 2018-08-18    13      23   18      8  2018\n",
       "3 2018-08-18    14     104   18      8  2018\n",
       "4 2018-08-18    15      81   18      8  2018"
      ]
     },
     "execution_count": 8,
     "metadata": {},
     "output_type": "execute_result"
    }
   ],
   "source": [
    "eda_df.head()"
   ]
  },
  {
   "cell_type": "markdown",
   "id": "583c7ddd",
   "metadata": {},
   "source": [
    "### Yearly Demand"
   ]
  },
  {
   "cell_type": "code",
   "execution_count": 9,
   "id": "b0e2587b",
   "metadata": {},
   "outputs": [
    {
     "data": {
      "image/png": "[encoded data removed]",
      "text/plain": [
       "<Figure size 1080x576 with 1 Axes>"
      ]
     },
     "metadata": {
      "needs_background": "light"
     },
     "output_type": "display_data"
    }
   ],
   "source": [
    "plt.figure(figsize=(15,8))\n",
    "sns.boxplot(eda_df['year'],eda_df['demand'])\n",
    "plt.show()"
   ]
  },
  {
   "cell_type": "code",
   "execution_count": 10,
   "id": "06453bc3",
   "metadata": {},
   "outputs": [
    {
     "data": {
      "text/plain": [
       "year\n",
       "2018    68\n",
       "2019    71\n",
       "2020    73\n",
       "2021    76\n",
       "Name: demand, dtype: int64"
      ]
     },
     "execution_count": 10,
     "metadata": {},
     "output_type": "execute_result"
    }
   ],
   "source": [
    "eda_df.groupby('year').demand.median()"
   ]
  },
  {
   "cell_type": "markdown",
   "id": "2d1e6d97",
   "metadata": {},
   "source": [
    "### Median price is almost same for all the years"
   ]
  },
  {
   "cell_type": "code",
   "execution_count": 11,
   "id": "e62e8649",
   "metadata": {},
   "outputs": [
    {
     "data": {
      "image/png": "[encoded data removed]",
      "text/plain": [
       "<Figure size 1080x576 with 1 Axes>"
      ]
     },
     "metadata": {
      "needs_background": "light"
     },
     "output_type": "display_data"
    }
   ],
   "source": [
    "plt.figure(figsize=(15,8))\n",
    "sns.countplot(eda_df['year'])\n",
    "plt.show()"
   ]
  },
  {
   "cell_type": "markdown",
   "id": "8e7754a7",
   "metadata": {},
   "source": [
    "### Monthly demand"
   ]
  },
  {
   "cell_type": "code",
   "execution_count": 12,
   "id": "629ac580",
   "metadata": {},
   "outputs": [
    {
     "data": {
      "image/png": "[encoded data removed]",
      "text/plain": [
       "<Figure size 1080x576 with 1 Axes>"
      ]
     },
     "metadata": {
      "needs_background": "light"
     },
     "output_type": "display_data"
    }
   ],
   "source": [
    "plt.figure(figsize=(15,8))\n",
    "sns.boxplot(eda_df['month'],eda_df['demand'])\n",
    "plt.show()"
   ]
  },
  {
   "cell_type": "code",
   "execution_count": 13,
   "id": "bd7708ff",
   "metadata": {},
   "outputs": [
    {
     "data": {
      "text/plain": [
       "month\n",
       "11    85\n",
       "6     79\n",
       "1     75\n",
       "12    75\n",
       "3     73\n",
       "5     72\n",
       "2     71\n",
       "4     67\n",
       "7     66\n",
       "8     64\n",
       "9     64\n",
       "10    64\n",
       "Name: demand, dtype: int64"
      ]
     },
     "execution_count": 13,
     "metadata": {},
     "output_type": "execute_result"
    }
   ],
   "source": [
    "eda_df.groupby('month').demand.median().sort_values(ascending=False)"
   ]
  },
  {
   "cell_type": "markdown",
   "id": "03d93236",
   "metadata": {},
   "source": [
    "### Nov month has the highest demand"
   ]
  },
  {
   "cell_type": "markdown",
   "id": "f31795ec",
   "metadata": {},
   "source": [
    "### Daily Trend"
   ]
  },
  {
   "cell_type": "code",
   "execution_count": 14,
   "id": "1841cc4f",
   "metadata": {},
   "outputs": [
    {
     "data": {
      "image/png": "[encoded data removed]",
      "text/plain": [
       "<Figure size 1080x576 with 1 Axes>"
      ]
     },
     "metadata": {
      "needs_background": "light"
     },
     "output_type": "display_data"
    }
   ],
   "source": [
    "plt.figure(figsize=(15,8))\n",
    "sns.boxplot(eda_df['day'],eda_df['demand'])\n",
    "plt.show()"
   ]
  },
  {
   "cell_type": "code",
   "execution_count": 15,
   "id": "2ebb86fc",
   "metadata": {},
   "outputs": [
    {
     "data": {
      "text/plain": [
       "day\n",
       "31    77.5\n",
       "7     76.0\n",
       "29    75.0\n",
       "10    75.0\n",
       "14    74.0\n",
       "8     74.0\n",
       "12    74.0\n",
       "9     73.5\n",
       "19    73.5\n",
       "4     73.0\n",
       "17    72.5\n",
       "27    72.0\n",
       "20    72.0\n",
       "16    72.0\n",
       "5     72.0\n",
       "6     72.0\n",
       "15    71.0\n",
       "2     71.0\n",
       "30    71.0\n",
       "28    71.0\n",
       "1     70.5\n",
       "22    70.0\n",
       "11    70.0\n",
       "26    69.5\n",
       "13    69.0\n",
       "21    68.0\n",
       "24    68.0\n",
       "23    68.0\n",
       "25    67.0\n",
       "18    67.0\n",
       "3     67.0\n",
       "Name: demand, dtype: float64"
      ]
     },
     "execution_count": 15,
     "metadata": {},
     "output_type": "execute_result"
    }
   ],
   "source": [
    "eda_df.groupby('day').demand.median().sort_values(ascending=False)"
   ]
  },
  {
   "cell_type": "markdown",
   "id": "c69a871b",
   "metadata": {},
   "source": [
    "#### 31st of the month has the highest demand of rental cars"
   ]
  },
  {
   "cell_type": "markdown",
   "id": "7f9b90a4",
   "metadata": {},
   "source": [
    "### Hourly Demand"
   ]
  },
  {
   "cell_type": "code",
   "execution_count": 16,
   "id": "20e470eb",
   "metadata": {},
   "outputs": [
    {
     "data": {
      "image/png": "[encoded data removed]",
      "text/plain": [
       "<Figure size 1080x576 with 1 Axes>"
      ]
     },
     "metadata": {
      "needs_background": "light"
     },
     "output_type": "display_data"
    }
   ],
   "source": [
    "plt.figure(figsize=(15,8))\n",
    "sns.boxplot(eda_df['hour'],eda_df['demand'])\n",
    "plt.show()"
   ]
  },
  {
   "cell_type": "code",
   "execution_count": 17,
   "id": "81a423ac",
   "metadata": {},
   "outputs": [
    {
     "data": {
      "text/plain": [
       "hour\n",
       "15    92.0\n",
       "17    91.0\n",
       "16    90.0\n",
       "14    87.5\n",
       "12    87.0\n",
       "13    87.0\n",
       "18    85.0\n",
       "19    79.0\n",
       "11    79.0\n",
       "10    73.0\n",
       "20    68.0\n",
       "9     67.5\n",
       "22    64.0\n",
       "8     64.0\n",
       "21    63.5\n",
       "7     61.0\n",
       "0     58.0\n",
       "23    58.0\n",
       "3     57.0\n",
       "1     56.0\n",
       "2     56.0\n",
       "4     52.0\n",
       "6     49.0\n",
       "5     48.0\n",
       "Name: demand, dtype: float64"
      ]
     },
     "execution_count": 17,
     "metadata": {},
     "output_type": "execute_result"
    }
   ],
   "source": [
    "eda_df.groupby('hour').demand.median().sort_values(ascending=False)"
   ]
  },
  {
   "cell_type": "markdown",
   "id": "496b331a",
   "metadata": {},
   "source": [
    "#### 15th hour has a highest demand , from 10 AM to 6 PM , demand is more than the rest hours of the day"
   ]
  },
  {
   "cell_type": "code",
   "execution_count": 18,
   "id": "3dff0481",
   "metadata": {},
   "outputs": [
    {
     "data": {
      "text/html": [
       "<div>\n",
       "<style scoped>\n",
       "    .dataframe tbody tr th:only-of-type {\n",
       "        vertical-align: middle;\n",
       "    }\n",
       "\n",
       "    .dataframe tbody tr th {\n",
       "        vertical-align: top;\n",
       "    }\n",
       "\n",
       "    .dataframe thead th {\n",
       "        text-align: right;\n",
       "    }\n",
       "</style>\n",
       "<table border=\"1\" class=\"dataframe\">\n",
       "  <thead>\n",
       "    <tr style=\"text-align: right;\">\n",
       "      <th></th>\n",
       "      <th>date</th>\n",
       "      <th>hour</th>\n",
       "      <th>demand</th>\n",
       "      <th>day</th>\n",
       "      <th>month</th>\n",
       "      <th>year</th>\n",
       "    </tr>\n",
       "  </thead>\n",
       "  <tbody>\n",
       "    <tr>\n",
       "      <th>0</th>\n",
       "      <td>2018-08-18</td>\n",
       "      <td>9</td>\n",
       "      <td>91</td>\n",
       "      <td>18</td>\n",
       "      <td>8</td>\n",
       "      <td>2018</td>\n",
       "    </tr>\n",
       "    <tr>\n",
       "      <th>1</th>\n",
       "      <td>2018-08-18</td>\n",
       "      <td>10</td>\n",
       "      <td>21</td>\n",
       "      <td>18</td>\n",
       "      <td>8</td>\n",
       "      <td>2018</td>\n",
       "    </tr>\n",
       "    <tr>\n",
       "      <th>2</th>\n",
       "      <td>2018-08-18</td>\n",
       "      <td>13</td>\n",
       "      <td>23</td>\n",
       "      <td>18</td>\n",
       "      <td>8</td>\n",
       "      <td>2018</td>\n",
       "    </tr>\n",
       "    <tr>\n",
       "      <th>3</th>\n",
       "      <td>2018-08-18</td>\n",
       "      <td>14</td>\n",
       "      <td>104</td>\n",
       "      <td>18</td>\n",
       "      <td>8</td>\n",
       "      <td>2018</td>\n",
       "    </tr>\n",
       "    <tr>\n",
       "      <th>4</th>\n",
       "      <td>2018-08-18</td>\n",
       "      <td>15</td>\n",
       "      <td>81</td>\n",
       "      <td>18</td>\n",
       "      <td>8</td>\n",
       "      <td>2018</td>\n",
       "    </tr>\n",
       "  </tbody>\n",
       "</table>\n",
       "</div>"
      ],
      "text/plain": [
       "        date  hour  demand  day  month  year\n",
       "0 2018-08-18     9      91   18      8  2018\n",
       "1 2018-08-18    10      21   18      8  2018\n",
       "2 2018-08-18    13      23   18      8  2018\n",
       "3 2018-08-18    14     104   18      8  2018\n",
       "4 2018-08-18    15      81   18      8  2018"
      ]
     },
     "execution_count": 18,
     "metadata": {},
     "output_type": "execute_result"
    }
   ],
   "source": [
    "eda_df.head()"
   ]
  },
  {
   "cell_type": "code",
   "execution_count": 19,
   "id": "9f00a26f",
   "metadata": {},
   "outputs": [
    {
     "data": {
      "image/png": "[encoded data removed]",
      "text/plain": [
       "<Figure size 1584x720 with 1 Axes>"
      ]
     },
     "metadata": {
      "needs_background": "light"
     },
     "output_type": "display_data"
    }
   ],
   "source": [
    "plt.figure(figsize=(22,10))\n",
    "\n",
    "plt.plot(eda_df['date'], eda_df['demand'], label='Train')\n",
    "plt.legend(loc='best')\n",
    "plt.show()"
   ]
  },
  {
   "cell_type": "markdown",
   "id": "bb5228b0",
   "metadata": {},
   "source": [
    "### Finding and Handling Missing Dates"
   ]
  },
  {
   "cell_type": "code",
   "execution_count": 20,
   "id": "c02e5ea4",
   "metadata": {},
   "outputs": [
    {
     "name": "stdout",
     "output_type": "stream",
     "text": [
      "Total days between 18-08-18 to 28-02-21: 925\n",
      "Number of rows present in the data are: 18247\n"
     ]
    }
   ],
   "source": [
    "print('Total days between 18-08-18 to 28-02-21:', (eda_df['date'].max() - eda_df['date'].min()).days)\n",
    "print('Number of rows present in the data are:', eda_df.shape[0])"
   ]
  },
  {
   "cell_type": "code",
   "execution_count": 21,
   "id": "c4806d30",
   "metadata": {},
   "outputs": [
    {
     "data": {
      "text/plain": [
       "DatetimeIndex(['2019-04-28', '2020-11-27', '2020-11-28', '2020-11-29',\n",
       "               '2020-11-30', '2020-12-01', '2020-12-02', '2020-12-03',\n",
       "               '2020-12-04', '2020-12-05', '2020-12-06', '2020-12-07',\n",
       "               '2020-12-08', '2020-12-09', '2020-12-10', '2020-12-11',\n",
       "               '2020-12-12', '2020-12-13', '2020-12-14', '2020-12-15',\n",
       "               '2020-12-16', '2020-12-17', '2020-12-18', '2020-12-19',\n",
       "               '2020-12-20', '2020-12-21', '2020-12-22', '2020-12-23',\n",
       "               '2020-12-24', '2020-12-25', '2020-12-26'],\n",
       "              dtype='datetime64[ns]', freq=None)"
      ]
     },
     "execution_count": 21,
     "metadata": {},
     "output_type": "execute_result"
    }
   ],
   "source": [
    "pd.date_range(start='2018-08-18',end='2021-02-28').difference(eda_df['date'])"
   ]
  },
  {
   "cell_type": "code",
   "execution_count": 22,
   "id": "537ee8f1",
   "metadata": {},
   "outputs": [],
   "source": [
    "missing_days=pd.date_range(start='2018-08-18',end='2021-02-28').difference(eda_df['date'])"
   ]
  },
  {
   "cell_type": "code",
   "execution_count": 23,
   "id": "2de6fd61",
   "metadata": {},
   "outputs": [
    {
     "data": {
      "text/plain": [
       "(31,)"
      ]
     },
     "execution_count": 23,
     "metadata": {},
     "output_type": "execute_result"
    }
   ],
   "source": [
    "missing_days.shape"
   ]
  },
  {
   "cell_type": "markdown",
   "id": "db61fe0b",
   "metadata": {},
   "source": [
    "#### There are 31 days missing 28-04-2019, 27-11-2020 to 26-12-2020"
   ]
  },
  {
   "cell_type": "code",
   "execution_count": 24,
   "id": "234ee905",
   "metadata": {},
   "outputs": [],
   "source": [
    "missing_dates=pd.DataFrame(data=missing_days,columns=['date'])"
   ]
  },
  {
   "cell_type": "code",
   "execution_count": 25,
   "id": "9d18fdf5",
   "metadata": {},
   "outputs": [
    {
     "data": {
      "text/html": [
       "<div>\n",
       "<style scoped>\n",
       "    .dataframe tbody tr th:only-of-type {\n",
       "        vertical-align: middle;\n",
       "    }\n",
       "\n",
       "    .dataframe tbody tr th {\n",
       "        vertical-align: top;\n",
       "    }\n",
       "\n",
       "    .dataframe thead th {\n",
       "        text-align: right;\n",
       "    }\n",
       "</style>\n",
       "<table border=\"1\" class=\"dataframe\">\n",
       "  <thead>\n",
       "    <tr style=\"text-align: right;\">\n",
       "      <th></th>\n",
       "      <th>date</th>\n",
       "    </tr>\n",
       "  </thead>\n",
       "  <tbody>\n",
       "    <tr>\n",
       "      <th>0</th>\n",
       "      <td>2019-04-28</td>\n",
       "    </tr>\n",
       "    <tr>\n",
       "      <th>1</th>\n",
       "      <td>2020-11-27</td>\n",
       "    </tr>\n",
       "    <tr>\n",
       "      <th>2</th>\n",
       "      <td>2020-11-28</td>\n",
       "    </tr>\n",
       "    <tr>\n",
       "      <th>3</th>\n",
       "      <td>2020-11-29</td>\n",
       "    </tr>\n",
       "    <tr>\n",
       "      <th>4</th>\n",
       "      <td>2020-11-30</td>\n",
       "    </tr>\n",
       "  </tbody>\n",
       "</table>\n",
       "</div>"
      ],
      "text/plain": [
       "        date\n",
       "0 2019-04-28\n",
       "1 2020-11-27\n",
       "2 2020-11-28\n",
       "3 2020-11-29\n",
       "4 2020-11-30"
      ]
     },
     "execution_count": 25,
     "metadata": {},
     "output_type": "execute_result"
    }
   ],
   "source": [
    "missing_dates.head()"
   ]
  },
  {
   "cell_type": "code",
   "execution_count": 26,
   "id": "c8963a0e",
   "metadata": {},
   "outputs": [],
   "source": [
    "missing_dates['day']=missing_dates['date'].dt.strftime(\"%A\")\n",
    "missing_dates['day_of_month']=missing_dates['date'].dt.day\n",
    "missing_dates['month']=missing_dates['date'].dt.month\n",
    "missing_dates['year']=missing_dates['date'].dt.year"
   ]
  },
  {
   "cell_type": "code",
   "execution_count": 27,
   "id": "c69c0ae2",
   "metadata": {},
   "outputs": [
    {
     "data": {
      "text/html": [
       "<div>\n",
       "<style scoped>\n",
       "    .dataframe tbody tr th:only-of-type {\n",
       "        vertical-align: middle;\n",
       "    }\n",
       "\n",
       "    .dataframe tbody tr th {\n",
       "        vertical-align: top;\n",
       "    }\n",
       "\n",
       "    .dataframe thead th {\n",
       "        text-align: right;\n",
       "    }\n",
       "</style>\n",
       "<table border=\"1\" class=\"dataframe\">\n",
       "  <thead>\n",
       "    <tr style=\"text-align: right;\">\n",
       "      <th></th>\n",
       "      <th>date</th>\n",
       "      <th>day</th>\n",
       "      <th>day_of_month</th>\n",
       "      <th>month</th>\n",
       "      <th>year</th>\n",
       "    </tr>\n",
       "  </thead>\n",
       "  <tbody>\n",
       "    <tr>\n",
       "      <th>0</th>\n",
       "      <td>2019-04-28</td>\n",
       "      <td>Sunday</td>\n",
       "      <td>28</td>\n",
       "      <td>4</td>\n",
       "      <td>2019</td>\n",
       "    </tr>\n",
       "    <tr>\n",
       "      <th>1</th>\n",
       "      <td>2020-11-27</td>\n",
       "      <td>Friday</td>\n",
       "      <td>27</td>\n",
       "      <td>11</td>\n",
       "      <td>2020</td>\n",
       "    </tr>\n",
       "    <tr>\n",
       "      <th>2</th>\n",
       "      <td>2020-11-28</td>\n",
       "      <td>Saturday</td>\n",
       "      <td>28</td>\n",
       "      <td>11</td>\n",
       "      <td>2020</td>\n",
       "    </tr>\n",
       "    <tr>\n",
       "      <th>3</th>\n",
       "      <td>2020-11-29</td>\n",
       "      <td>Sunday</td>\n",
       "      <td>29</td>\n",
       "      <td>11</td>\n",
       "      <td>2020</td>\n",
       "    </tr>\n",
       "    <tr>\n",
       "      <th>4</th>\n",
       "      <td>2020-11-30</td>\n",
       "      <td>Monday</td>\n",
       "      <td>30</td>\n",
       "      <td>11</td>\n",
       "      <td>2020</td>\n",
       "    </tr>\n",
       "    <tr>\n",
       "      <th>5</th>\n",
       "      <td>2020-12-01</td>\n",
       "      <td>Tuesday</td>\n",
       "      <td>1</td>\n",
       "      <td>12</td>\n",
       "      <td>2020</td>\n",
       "    </tr>\n",
       "    <tr>\n",
       "      <th>6</th>\n",
       "      <td>2020-12-02</td>\n",
       "      <td>Wednesday</td>\n",
       "      <td>2</td>\n",
       "      <td>12</td>\n",
       "      <td>2020</td>\n",
       "    </tr>\n",
       "    <tr>\n",
       "      <th>7</th>\n",
       "      <td>2020-12-03</td>\n",
       "      <td>Thursday</td>\n",
       "      <td>3</td>\n",
       "      <td>12</td>\n",
       "      <td>2020</td>\n",
       "    </tr>\n",
       "    <tr>\n",
       "      <th>8</th>\n",
       "      <td>2020-12-04</td>\n",
       "      <td>Friday</td>\n",
       "      <td>4</td>\n",
       "      <td>12</td>\n",
       "      <td>2020</td>\n",
       "    </tr>\n",
       "    <tr>\n",
       "      <th>9</th>\n",
       "      <td>2020-12-05</td>\n",
       "      <td>Saturday</td>\n",
       "      <td>5</td>\n",
       "      <td>12</td>\n",
       "      <td>2020</td>\n",
       "    </tr>\n",
       "  </tbody>\n",
       "</table>\n",
       "</div>"
      ],
      "text/plain": [
       "        date        day  day_of_month  month  year\n",
       "0 2019-04-28     Sunday            28      4  2019\n",
       "1 2020-11-27     Friday            27     11  2020\n",
       "2 2020-11-28   Saturday            28     11  2020\n",
       "3 2020-11-29     Sunday            29     11  2020\n",
       "4 2020-11-30     Monday            30     11  2020\n",
       "5 2020-12-01    Tuesday             1     12  2020\n",
       "6 2020-12-02  Wednesday             2     12  2020\n",
       "7 2020-12-03   Thursday             3     12  2020\n",
       "8 2020-12-04     Friday             4     12  2020\n",
       "9 2020-12-05   Saturday             5     12  2020"
      ]
     },
     "execution_count": 27,
     "metadata": {},
     "output_type": "execute_result"
    }
   ],
   "source": [
    "missing_dates.head(10)"
   ]
  },
  {
   "cell_type": "code",
   "execution_count": 28,
   "id": "e320d370",
   "metadata": {},
   "outputs": [
    {
     "data": {
      "text/plain": [
       "Friday       5\n",
       "Saturday     5\n",
       "Sunday       5\n",
       "Monday       4\n",
       "Tuesday      4\n",
       "Thursday     4\n",
       "Wednesday    4\n",
       "Name: day, dtype: int64"
      ]
     },
     "execution_count": 28,
     "metadata": {},
     "output_type": "execute_result"
    }
   ],
   "source": [
    "missing_dates['day'].value_counts()"
   ]
  },
  {
   "cell_type": "code",
   "execution_count": 29,
   "id": "7c41d23f",
   "metadata": {},
   "outputs": [
    {
     "data": {
      "text/plain": [
       "12    26\n",
       "11     4\n",
       "4      1\n",
       "Name: month, dtype: int64"
      ]
     },
     "execution_count": 29,
     "metadata": {},
     "output_type": "execute_result"
    }
   ],
   "source": [
    "missing_dates['month'].value_counts()"
   ]
  },
  {
   "cell_type": "code",
   "execution_count": 30,
   "id": "97c65c05",
   "metadata": {},
   "outputs": [
    {
     "data": {
      "text/plain": [
       "2020    30\n",
       "2019     1\n",
       "Name: year, dtype: int64"
      ]
     },
     "execution_count": 30,
     "metadata": {},
     "output_type": "execute_result"
    }
   ],
   "source": [
    "missing_dates['year'].value_counts()"
   ]
  },
  {
   "cell_type": "code",
   "execution_count": 31,
   "id": "bd5d4e1d",
   "metadata": {},
   "outputs": [
    {
     "data": {
      "text/html": [
       "<div>\n",
       "<style scoped>\n",
       "    .dataframe tbody tr th:only-of-type {\n",
       "        vertical-align: middle;\n",
       "    }\n",
       "\n",
       "    .dataframe tbody tr th {\n",
       "        vertical-align: top;\n",
       "    }\n",
       "\n",
       "    .dataframe thead th {\n",
       "        text-align: right;\n",
       "    }\n",
       "</style>\n",
       "<table border=\"1\" class=\"dataframe\">\n",
       "  <thead>\n",
       "    <tr style=\"text-align: right;\">\n",
       "      <th>day</th>\n",
       "      <th>Friday</th>\n",
       "      <th>Monday</th>\n",
       "      <th>Saturday</th>\n",
       "      <th>Sunday</th>\n",
       "      <th>Thursday</th>\n",
       "      <th>Tuesday</th>\n",
       "      <th>Wednesday</th>\n",
       "    </tr>\n",
       "    <tr>\n",
       "      <th>year</th>\n",
       "      <th></th>\n",
       "      <th></th>\n",
       "      <th></th>\n",
       "      <th></th>\n",
       "      <th></th>\n",
       "      <th></th>\n",
       "      <th></th>\n",
       "    </tr>\n",
       "  </thead>\n",
       "  <tbody>\n",
       "    <tr>\n",
       "      <th>2019</th>\n",
       "      <td>0</td>\n",
       "      <td>0</td>\n",
       "      <td>0</td>\n",
       "      <td>1</td>\n",
       "      <td>0</td>\n",
       "      <td>0</td>\n",
       "      <td>0</td>\n",
       "    </tr>\n",
       "    <tr>\n",
       "      <th>2020</th>\n",
       "      <td>5</td>\n",
       "      <td>4</td>\n",
       "      <td>5</td>\n",
       "      <td>4</td>\n",
       "      <td>4</td>\n",
       "      <td>4</td>\n",
       "      <td>4</td>\n",
       "    </tr>\n",
       "  </tbody>\n",
       "</table>\n",
       "</div>"
      ],
      "text/plain": [
       "day   Friday  Monday  Saturday  Sunday  Thursday  Tuesday  Wednesday\n",
       "year                                                                \n",
       "2019       0       0         0       1         0        0          0\n",
       "2020       5       4         5       4         4        4          4"
      ]
     },
     "execution_count": 31,
     "metadata": {},
     "output_type": "execute_result"
    }
   ],
   "source": [
    "pd.crosstab(missing_dates['year'],missing_dates['day'])"
   ]
  },
  {
   "cell_type": "markdown",
   "id": "dd0e5fcc",
   "metadata": {},
   "source": [
    "##### filling the missing values with previous day data for 28-04-2019\n",
    "##### 27-11-2020 to 26-12-2020 - filling the data with previous month data"
   ]
  },
  {
   "cell_type": "code",
   "execution_count": 32,
   "id": "ac272d39",
   "metadata": {},
   "outputs": [],
   "source": [
    "missing_data_28=eda_df[eda_df['date']=='2019-04-27']"
   ]
  },
  {
   "cell_type": "code",
   "execution_count": 33,
   "id": "288660dc",
   "metadata": {},
   "outputs": [],
   "source": [
    "# incrementing the datetime value with 1 day\n",
    "missing_data_28['new_date']=missing_data_28['date']+datetime.timedelta(days=1)"
   ]
  },
  {
   "cell_type": "code",
   "execution_count": 34,
   "id": "8e3a470f",
   "metadata": {},
   "outputs": [],
   "source": [
    "missing_data_28=missing_data_28.reset_index(drop=True)"
   ]
  },
  {
   "cell_type": "code",
   "execution_count": 35,
   "id": "1bc466ea",
   "metadata": {},
   "outputs": [],
   "source": [
    "missing_data_28.drop(['date','day','month','year'],axis=1,inplace=True)"
   ]
  },
  {
   "cell_type": "code",
   "execution_count": 36,
   "id": "f7efd4c5",
   "metadata": {},
   "outputs": [
    {
     "data": {
      "text/html": [
       "<div>\n",
       "<style scoped>\n",
       "    .dataframe tbody tr th:only-of-type {\n",
       "        vertical-align: middle;\n",
       "    }\n",
       "\n",
       "    .dataframe tbody tr th {\n",
       "        vertical-align: top;\n",
       "    }\n",
       "\n",
       "    .dataframe thead th {\n",
       "        text-align: right;\n",
       "    }\n",
       "</style>\n",
       "<table border=\"1\" class=\"dataframe\">\n",
       "  <thead>\n",
       "    <tr style=\"text-align: right;\">\n",
       "      <th></th>\n",
       "      <th>hour</th>\n",
       "      <th>demand</th>\n",
       "      <th>new_date</th>\n",
       "    </tr>\n",
       "  </thead>\n",
       "  <tbody>\n",
       "    <tr>\n",
       "      <th>0</th>\n",
       "      <td>0</td>\n",
       "      <td>92</td>\n",
       "      <td>2019-04-28</td>\n",
       "    </tr>\n",
       "    <tr>\n",
       "      <th>1</th>\n",
       "      <td>1</td>\n",
       "      <td>46</td>\n",
       "      <td>2019-04-28</td>\n",
       "    </tr>\n",
       "    <tr>\n",
       "      <th>2</th>\n",
       "      <td>2</td>\n",
       "      <td>13</td>\n",
       "      <td>2019-04-28</td>\n",
       "    </tr>\n",
       "    <tr>\n",
       "      <th>3</th>\n",
       "      <td>3</td>\n",
       "      <td>32</td>\n",
       "      <td>2019-04-28</td>\n",
       "    </tr>\n",
       "    <tr>\n",
       "      <th>4</th>\n",
       "      <td>5</td>\n",
       "      <td>37</td>\n",
       "      <td>2019-04-28</td>\n",
       "    </tr>\n",
       "  </tbody>\n",
       "</table>\n",
       "</div>"
      ],
      "text/plain": [
       "   hour  demand   new_date\n",
       "0     0      92 2019-04-28\n",
       "1     1      46 2019-04-28\n",
       "2     2      13 2019-04-28\n",
       "3     3      32 2019-04-28\n",
       "4     5      37 2019-04-28"
      ]
     },
     "execution_count": 36,
     "metadata": {},
     "output_type": "execute_result"
    }
   ],
   "source": [
    "missing_data_28.head()"
   ]
  },
  {
   "cell_type": "code",
   "execution_count": 37,
   "id": "c3b822b0",
   "metadata": {},
   "outputs": [],
   "source": [
    "##### 27-11-2020 to 26-12-2020 - fill the data with previous month data\n",
    "missing_data_27_nov_to_26_dec=eda_df[(eda_df['date']>='2020-10-27') & (eda_df['date']<='2020-11-26')]"
   ]
  },
  {
   "cell_type": "code",
   "execution_count": 38,
   "id": "aa2edf9e",
   "metadata": {},
   "outputs": [
    {
     "data": {
      "text/html": [
       "<div>\n",
       "<style scoped>\n",
       "    .dataframe tbody tr th:only-of-type {\n",
       "        vertical-align: middle;\n",
       "    }\n",
       "\n",
       "    .dataframe tbody tr th {\n",
       "        vertical-align: top;\n",
       "    }\n",
       "\n",
       "    .dataframe thead th {\n",
       "        text-align: right;\n",
       "    }\n",
       "</style>\n",
       "<table border=\"1\" class=\"dataframe\">\n",
       "  <thead>\n",
       "    <tr style=\"text-align: right;\">\n",
       "      <th></th>\n",
       "      <th>date</th>\n",
       "      <th>hour</th>\n",
       "      <th>demand</th>\n",
       "      <th>day</th>\n",
       "      <th>month</th>\n",
       "      <th>year</th>\n",
       "    </tr>\n",
       "  </thead>\n",
       "  <tbody>\n",
       "    <tr>\n",
       "      <th>16147</th>\n",
       "      <td>2020-10-27</td>\n",
       "      <td>0</td>\n",
       "      <td>98</td>\n",
       "      <td>27</td>\n",
       "      <td>10</td>\n",
       "      <td>2020</td>\n",
       "    </tr>\n",
       "    <tr>\n",
       "      <th>16148</th>\n",
       "      <td>2020-10-27</td>\n",
       "      <td>1</td>\n",
       "      <td>67</td>\n",
       "      <td>27</td>\n",
       "      <td>10</td>\n",
       "      <td>2020</td>\n",
       "    </tr>\n",
       "    <tr>\n",
       "      <th>16149</th>\n",
       "      <td>2020-10-27</td>\n",
       "      <td>2</td>\n",
       "      <td>83</td>\n",
       "      <td>27</td>\n",
       "      <td>10</td>\n",
       "      <td>2020</td>\n",
       "    </tr>\n",
       "    <tr>\n",
       "      <th>16150</th>\n",
       "      <td>2020-10-27</td>\n",
       "      <td>4</td>\n",
       "      <td>61</td>\n",
       "      <td>27</td>\n",
       "      <td>10</td>\n",
       "      <td>2020</td>\n",
       "    </tr>\n",
       "    <tr>\n",
       "      <th>16151</th>\n",
       "      <td>2020-10-27</td>\n",
       "      <td>6</td>\n",
       "      <td>30</td>\n",
       "      <td>27</td>\n",
       "      <td>10</td>\n",
       "      <td>2020</td>\n",
       "    </tr>\n",
       "  </tbody>\n",
       "</table>\n",
       "</div>"
      ],
      "text/plain": [
       "            date  hour  demand  day  month  year\n",
       "16147 2020-10-27     0      98   27     10  2020\n",
       "16148 2020-10-27     1      67   27     10  2020\n",
       "16149 2020-10-27     2      83   27     10  2020\n",
       "16150 2020-10-27     4      61   27     10  2020\n",
       "16151 2020-10-27     6      30   27     10  2020"
      ]
     },
     "execution_count": 38,
     "metadata": {},
     "output_type": "execute_result"
    }
   ],
   "source": [
    "missing_data_27_nov_to_26_dec.head()"
   ]
  },
  {
   "cell_type": "code",
   "execution_count": 39,
   "id": "6cc1d8bd",
   "metadata": {},
   "outputs": [
    {
     "data": {
      "text/plain": [
       "array(['2020-10-27T00:00:00.000000000', '2020-10-28T00:00:00.000000000',\n",
       "       '2020-10-29T00:00:00.000000000', '2020-10-30T00:00:00.000000000',\n",
       "       '2020-10-31T00:00:00.000000000', '2020-11-01T00:00:00.000000000',\n",
       "       '2020-11-02T00:00:00.000000000', '2020-11-03T00:00:00.000000000',\n",
       "       '2020-11-04T00:00:00.000000000', '2020-11-05T00:00:00.000000000',\n",
       "       '2020-11-06T00:00:00.000000000', '2020-11-07T00:00:00.000000000',\n",
       "       '2020-11-08T00:00:00.000000000', '2020-11-09T00:00:00.000000000',\n",
       "       '2020-11-10T00:00:00.000000000', '2020-11-11T00:00:00.000000000',\n",
       "       '2020-11-12T00:00:00.000000000', '2020-11-13T00:00:00.000000000',\n",
       "       '2020-11-14T00:00:00.000000000', '2020-11-15T00:00:00.000000000',\n",
       "       '2020-11-16T00:00:00.000000000', '2020-11-17T00:00:00.000000000',\n",
       "       '2020-11-18T00:00:00.000000000', '2020-11-19T00:00:00.000000000',\n",
       "       '2020-11-20T00:00:00.000000000', '2020-11-21T00:00:00.000000000',\n",
       "       '2020-11-22T00:00:00.000000000', '2020-11-23T00:00:00.000000000',\n",
       "       '2020-11-24T00:00:00.000000000', '2020-11-25T00:00:00.000000000',\n",
       "       '2020-11-26T00:00:00.000000000'], dtype='datetime64[ns]')"
      ]
     },
     "execution_count": 39,
     "metadata": {},
     "output_type": "execute_result"
    }
   ],
   "source": [
    "missing_data_27_nov_to_26_dec['date'].unique()"
   ]
  },
  {
   "cell_type": "code",
   "execution_count": 40,
   "id": "3c92f2bb",
   "metadata": {},
   "outputs": [],
   "source": [
    "missing_data_27_nov_to_26_dec['new_date']=missing_data_27_nov_to_26_dec['date']+datetime.timedelta(days=31)"
   ]
  },
  {
   "cell_type": "code",
   "execution_count": 41,
   "id": "cf2f7889",
   "metadata": {},
   "outputs": [
    {
     "data": {
      "text/plain": [
       "array(['2020-11-27T00:00:00.000000000', '2020-11-28T00:00:00.000000000',\n",
       "       '2020-11-29T00:00:00.000000000', '2020-11-30T00:00:00.000000000',\n",
       "       '2020-12-01T00:00:00.000000000', '2020-12-02T00:00:00.000000000',\n",
       "       '2020-12-03T00:00:00.000000000', '2020-12-04T00:00:00.000000000',\n",
       "       '2020-12-05T00:00:00.000000000', '2020-12-06T00:00:00.000000000',\n",
       "       '2020-12-07T00:00:00.000000000', '2020-12-08T00:00:00.000000000',\n",
       "       '2020-12-09T00:00:00.000000000', '2020-12-10T00:00:00.000000000',\n",
       "       '2020-12-11T00:00:00.000000000', '2020-12-12T00:00:00.000000000',\n",
       "       '2020-12-13T00:00:00.000000000', '2020-12-14T00:00:00.000000000',\n",
       "       '2020-12-15T00:00:00.000000000', '2020-12-16T00:00:00.000000000',\n",
       "       '2020-12-17T00:00:00.000000000', '2020-12-18T00:00:00.000000000',\n",
       "       '2020-12-19T00:00:00.000000000', '2020-12-20T00:00:00.000000000',\n",
       "       '2020-12-21T00:00:00.000000000', '2020-12-22T00:00:00.000000000',\n",
       "       '2020-12-23T00:00:00.000000000', '2020-12-24T00:00:00.000000000',\n",
       "       '2020-12-25T00:00:00.000000000', '2020-12-26T00:00:00.000000000',\n",
       "       '2020-12-27T00:00:00.000000000'], dtype='datetime64[ns]')"
      ]
     },
     "execution_count": 41,
     "metadata": {},
     "output_type": "execute_result"
    }
   ],
   "source": [
    "missing_data_27_nov_to_26_dec['new_date'].unique()"
   ]
  },
  {
   "cell_type": "code",
   "execution_count": 42,
   "id": "7978b827",
   "metadata": {},
   "outputs": [
    {
     "data": {
      "text/html": [
       "<div>\n",
       "<style scoped>\n",
       "    .dataframe tbody tr th:only-of-type {\n",
       "        vertical-align: middle;\n",
       "    }\n",
       "\n",
       "    .dataframe tbody tr th {\n",
       "        vertical-align: top;\n",
       "    }\n",
       "\n",
       "    .dataframe thead th {\n",
       "        text-align: right;\n",
       "    }\n",
       "</style>\n",
       "<table border=\"1\" class=\"dataframe\">\n",
       "  <thead>\n",
       "    <tr style=\"text-align: right;\">\n",
       "      <th></th>\n",
       "      <th>date</th>\n",
       "      <th>hour</th>\n",
       "      <th>demand</th>\n",
       "      <th>day</th>\n",
       "      <th>month</th>\n",
       "      <th>year</th>\n",
       "      <th>new_date</th>\n",
       "    </tr>\n",
       "  </thead>\n",
       "  <tbody>\n",
       "    <tr>\n",
       "      <th>16823</th>\n",
       "      <td>2020-11-26</td>\n",
       "      <td>19</td>\n",
       "      <td>94</td>\n",
       "      <td>26</td>\n",
       "      <td>11</td>\n",
       "      <td>2020</td>\n",
       "      <td>2020-12-27</td>\n",
       "    </tr>\n",
       "    <tr>\n",
       "      <th>16824</th>\n",
       "      <td>2020-11-26</td>\n",
       "      <td>20</td>\n",
       "      <td>77</td>\n",
       "      <td>26</td>\n",
       "      <td>11</td>\n",
       "      <td>2020</td>\n",
       "      <td>2020-12-27</td>\n",
       "    </tr>\n",
       "    <tr>\n",
       "      <th>16825</th>\n",
       "      <td>2020-11-26</td>\n",
       "      <td>21</td>\n",
       "      <td>35</td>\n",
       "      <td>26</td>\n",
       "      <td>11</td>\n",
       "      <td>2020</td>\n",
       "      <td>2020-12-27</td>\n",
       "    </tr>\n",
       "    <tr>\n",
       "      <th>16826</th>\n",
       "      <td>2020-11-26</td>\n",
       "      <td>22</td>\n",
       "      <td>15</td>\n",
       "      <td>26</td>\n",
       "      <td>11</td>\n",
       "      <td>2020</td>\n",
       "      <td>2020-12-27</td>\n",
       "    </tr>\n",
       "    <tr>\n",
       "      <th>16827</th>\n",
       "      <td>2020-11-26</td>\n",
       "      <td>23</td>\n",
       "      <td>18</td>\n",
       "      <td>26</td>\n",
       "      <td>11</td>\n",
       "      <td>2020</td>\n",
       "      <td>2020-12-27</td>\n",
       "    </tr>\n",
       "  </tbody>\n",
       "</table>\n",
       "</div>"
      ],
      "text/plain": [
       "            date  hour  demand  day  month  year   new_date\n",
       "16823 2020-11-26    19      94   26     11  2020 2020-12-27\n",
       "16824 2020-11-26    20      77   26     11  2020 2020-12-27\n",
       "16825 2020-11-26    21      35   26     11  2020 2020-12-27\n",
       "16826 2020-11-26    22      15   26     11  2020 2020-12-27\n",
       "16827 2020-11-26    23      18   26     11  2020 2020-12-27"
      ]
     },
     "execution_count": 42,
     "metadata": {},
     "output_type": "execute_result"
    }
   ],
   "source": [
    "missing_data_27_nov_to_26_dec.tail()"
   ]
  },
  {
   "cell_type": "markdown",
   "id": "9b131249",
   "metadata": {},
   "source": [
    "##### removing an extra day at the end of missing_data_27_nov_to_26_dec, as 27-12-2020 data is already present in the dataset"
   ]
  },
  {
   "cell_type": "code",
   "execution_count": 43,
   "id": "3588a144",
   "metadata": {},
   "outputs": [],
   "source": [
    "# removing an extra day at the end of missing_data_27_nov_to_26_dec, as 27-12-2020 data is already present in the dataset\n",
    "missing_data_27_nov_to_26_dec=missing_data_27_nov_to_26_dec[(missing_data_27_nov_to_26_dec['new_date']>='2020-11-27') & (missing_data_27_nov_to_26_dec['new_date']<='2020-12-26')]"
   ]
  },
  {
   "cell_type": "code",
   "execution_count": 44,
   "id": "d6baca14",
   "metadata": {},
   "outputs": [
    {
     "data": {
      "text/html": [
       "<div>\n",
       "<style scoped>\n",
       "    .dataframe tbody tr th:only-of-type {\n",
       "        vertical-align: middle;\n",
       "    }\n",
       "\n",
       "    .dataframe tbody tr th {\n",
       "        vertical-align: top;\n",
       "    }\n",
       "\n",
       "    .dataframe thead th {\n",
       "        text-align: right;\n",
       "    }\n",
       "</style>\n",
       "<table border=\"1\" class=\"dataframe\">\n",
       "  <thead>\n",
       "    <tr style=\"text-align: right;\">\n",
       "      <th></th>\n",
       "      <th>date</th>\n",
       "      <th>hour</th>\n",
       "      <th>demand</th>\n",
       "      <th>day</th>\n",
       "      <th>month</th>\n",
       "      <th>year</th>\n",
       "      <th>new_date</th>\n",
       "    </tr>\n",
       "  </thead>\n",
       "  <tbody>\n",
       "    <tr>\n",
       "      <th>16147</th>\n",
       "      <td>2020-10-27</td>\n",
       "      <td>0</td>\n",
       "      <td>98</td>\n",
       "      <td>27</td>\n",
       "      <td>10</td>\n",
       "      <td>2020</td>\n",
       "      <td>2020-11-27</td>\n",
       "    </tr>\n",
       "    <tr>\n",
       "      <th>16148</th>\n",
       "      <td>2020-10-27</td>\n",
       "      <td>1</td>\n",
       "      <td>67</td>\n",
       "      <td>27</td>\n",
       "      <td>10</td>\n",
       "      <td>2020</td>\n",
       "      <td>2020-11-27</td>\n",
       "    </tr>\n",
       "    <tr>\n",
       "      <th>16149</th>\n",
       "      <td>2020-10-27</td>\n",
       "      <td>2</td>\n",
       "      <td>83</td>\n",
       "      <td>27</td>\n",
       "      <td>10</td>\n",
       "      <td>2020</td>\n",
       "      <td>2020-11-27</td>\n",
       "    </tr>\n",
       "    <tr>\n",
       "      <th>16150</th>\n",
       "      <td>2020-10-27</td>\n",
       "      <td>4</td>\n",
       "      <td>61</td>\n",
       "      <td>27</td>\n",
       "      <td>10</td>\n",
       "      <td>2020</td>\n",
       "      <td>2020-11-27</td>\n",
       "    </tr>\n",
       "    <tr>\n",
       "      <th>16151</th>\n",
       "      <td>2020-10-27</td>\n",
       "      <td>6</td>\n",
       "      <td>30</td>\n",
       "      <td>27</td>\n",
       "      <td>10</td>\n",
       "      <td>2020</td>\n",
       "      <td>2020-11-27</td>\n",
       "    </tr>\n",
       "    <tr>\n",
       "      <th>...</th>\n",
       "      <td>...</td>\n",
       "      <td>...</td>\n",
       "      <td>...</td>\n",
       "      <td>...</td>\n",
       "      <td>...</td>\n",
       "      <td>...</td>\n",
       "      <td>...</td>\n",
       "    </tr>\n",
       "    <tr>\n",
       "      <th>16801</th>\n",
       "      <td>2020-11-25</td>\n",
       "      <td>19</td>\n",
       "      <td>103</td>\n",
       "      <td>25</td>\n",
       "      <td>11</td>\n",
       "      <td>2020</td>\n",
       "      <td>2020-12-26</td>\n",
       "    </tr>\n",
       "    <tr>\n",
       "      <th>16802</th>\n",
       "      <td>2020-11-25</td>\n",
       "      <td>20</td>\n",
       "      <td>82</td>\n",
       "      <td>25</td>\n",
       "      <td>11</td>\n",
       "      <td>2020</td>\n",
       "      <td>2020-12-26</td>\n",
       "    </tr>\n",
       "    <tr>\n",
       "      <th>16803</th>\n",
       "      <td>2020-11-25</td>\n",
       "      <td>21</td>\n",
       "      <td>92</td>\n",
       "      <td>25</td>\n",
       "      <td>11</td>\n",
       "      <td>2020</td>\n",
       "      <td>2020-12-26</td>\n",
       "    </tr>\n",
       "    <tr>\n",
       "      <th>16804</th>\n",
       "      <td>2020-11-25</td>\n",
       "      <td>22</td>\n",
       "      <td>37</td>\n",
       "      <td>25</td>\n",
       "      <td>11</td>\n",
       "      <td>2020</td>\n",
       "      <td>2020-12-26</td>\n",
       "    </tr>\n",
       "    <tr>\n",
       "      <th>16805</th>\n",
       "      <td>2020-11-25</td>\n",
       "      <td>23</td>\n",
       "      <td>58</td>\n",
       "      <td>25</td>\n",
       "      <td>11</td>\n",
       "      <td>2020</td>\n",
       "      <td>2020-12-26</td>\n",
       "    </tr>\n",
       "  </tbody>\n",
       "</table>\n",
       "<p>659 rows × 7 columns</p>\n",
       "</div>"
      ],
      "text/plain": [
       "            date  hour  demand  day  month  year   new_date\n",
       "16147 2020-10-27     0      98   27     10  2020 2020-11-27\n",
       "16148 2020-10-27     1      67   27     10  2020 2020-11-27\n",
       "16149 2020-10-27     2      83   27     10  2020 2020-11-27\n",
       "16150 2020-10-27     4      61   27     10  2020 2020-11-27\n",
       "16151 2020-10-27     6      30   27     10  2020 2020-11-27\n",
       "...          ...   ...     ...  ...    ...   ...        ...\n",
       "16801 2020-11-25    19     103   25     11  2020 2020-12-26\n",
       "16802 2020-11-25    20      82   25     11  2020 2020-12-26\n",
       "16803 2020-11-25    21      92   25     11  2020 2020-12-26\n",
       "16804 2020-11-25    22      37   25     11  2020 2020-12-26\n",
       "16805 2020-11-25    23      58   25     11  2020 2020-12-26\n",
       "\n",
       "[659 rows x 7 columns]"
      ]
     },
     "execution_count": 44,
     "metadata": {},
     "output_type": "execute_result"
    }
   ],
   "source": [
    "missing_data_27_nov_to_26_dec"
   ]
  },
  {
   "cell_type": "code",
   "execution_count": 45,
   "id": "5fe64c3a",
   "metadata": {},
   "outputs": [],
   "source": [
    "missing_data_27_nov_to_26_dec=missing_data_27_nov_to_26_dec.reset_index(drop=True)"
   ]
  },
  {
   "cell_type": "code",
   "execution_count": 46,
   "id": "c5d4802c",
   "metadata": {},
   "outputs": [],
   "source": [
    "missing_data_27_nov_to_26_dec.drop(['date','day','month','year'],axis=1,inplace=True)"
   ]
  },
  {
   "cell_type": "code",
   "execution_count": 47,
   "id": "666827ce",
   "metadata": {},
   "outputs": [],
   "source": [
    "missing_data_final=pd.concat([missing_data_28,missing_data_27_nov_to_26_dec],axis=0).reset_index()"
   ]
  },
  {
   "cell_type": "code",
   "execution_count": 48,
   "id": "7e02b0ab",
   "metadata": {},
   "outputs": [
    {
     "data": {
      "text/html": [
       "<div>\n",
       "<style scoped>\n",
       "    .dataframe tbody tr th:only-of-type {\n",
       "        vertical-align: middle;\n",
       "    }\n",
       "\n",
       "    .dataframe tbody tr th {\n",
       "        vertical-align: top;\n",
       "    }\n",
       "\n",
       "    .dataframe thead th {\n",
       "        text-align: right;\n",
       "    }\n",
       "</style>\n",
       "<table border=\"1\" class=\"dataframe\">\n",
       "  <thead>\n",
       "    <tr style=\"text-align: right;\">\n",
       "      <th></th>\n",
       "      <th>index</th>\n",
       "      <th>hour</th>\n",
       "      <th>demand</th>\n",
       "      <th>new_date</th>\n",
       "    </tr>\n",
       "  </thead>\n",
       "  <tbody>\n",
       "    <tr>\n",
       "      <th>0</th>\n",
       "      <td>0</td>\n",
       "      <td>0</td>\n",
       "      <td>92</td>\n",
       "      <td>2019-04-28</td>\n",
       "    </tr>\n",
       "    <tr>\n",
       "      <th>1</th>\n",
       "      <td>1</td>\n",
       "      <td>1</td>\n",
       "      <td>46</td>\n",
       "      <td>2019-04-28</td>\n",
       "    </tr>\n",
       "    <tr>\n",
       "      <th>2</th>\n",
       "      <td>2</td>\n",
       "      <td>2</td>\n",
       "      <td>13</td>\n",
       "      <td>2019-04-28</td>\n",
       "    </tr>\n",
       "    <tr>\n",
       "      <th>3</th>\n",
       "      <td>3</td>\n",
       "      <td>3</td>\n",
       "      <td>32</td>\n",
       "      <td>2019-04-28</td>\n",
       "    </tr>\n",
       "    <tr>\n",
       "      <th>4</th>\n",
       "      <td>4</td>\n",
       "      <td>5</td>\n",
       "      <td>37</td>\n",
       "      <td>2019-04-28</td>\n",
       "    </tr>\n",
       "    <tr>\n",
       "      <th>...</th>\n",
       "      <td>...</td>\n",
       "      <td>...</td>\n",
       "      <td>...</td>\n",
       "      <td>...</td>\n",
       "    </tr>\n",
       "    <tr>\n",
       "      <th>676</th>\n",
       "      <td>654</td>\n",
       "      <td>19</td>\n",
       "      <td>103</td>\n",
       "      <td>2020-12-26</td>\n",
       "    </tr>\n",
       "    <tr>\n",
       "      <th>677</th>\n",
       "      <td>655</td>\n",
       "      <td>20</td>\n",
       "      <td>82</td>\n",
       "      <td>2020-12-26</td>\n",
       "    </tr>\n",
       "    <tr>\n",
       "      <th>678</th>\n",
       "      <td>656</td>\n",
       "      <td>21</td>\n",
       "      <td>92</td>\n",
       "      <td>2020-12-26</td>\n",
       "    </tr>\n",
       "    <tr>\n",
       "      <th>679</th>\n",
       "      <td>657</td>\n",
       "      <td>22</td>\n",
       "      <td>37</td>\n",
       "      <td>2020-12-26</td>\n",
       "    </tr>\n",
       "    <tr>\n",
       "      <th>680</th>\n",
       "      <td>658</td>\n",
       "      <td>23</td>\n",
       "      <td>58</td>\n",
       "      <td>2020-12-26</td>\n",
       "    </tr>\n",
       "  </tbody>\n",
       "</table>\n",
       "<p>681 rows × 4 columns</p>\n",
       "</div>"
      ],
      "text/plain": [
       "     index  hour  demand   new_date\n",
       "0        0     0      92 2019-04-28\n",
       "1        1     1      46 2019-04-28\n",
       "2        2     2      13 2019-04-28\n",
       "3        3     3      32 2019-04-28\n",
       "4        4     5      37 2019-04-28\n",
       "..     ...   ...     ...        ...\n",
       "676    654    19     103 2020-12-26\n",
       "677    655    20      82 2020-12-26\n",
       "678    656    21      92 2020-12-26\n",
       "679    657    22      37 2020-12-26\n",
       "680    658    23      58 2020-12-26\n",
       "\n",
       "[681 rows x 4 columns]"
      ]
     },
     "execution_count": 48,
     "metadata": {},
     "output_type": "execute_result"
    }
   ],
   "source": [
    "missing_data_final"
   ]
  },
  {
   "cell_type": "code",
   "execution_count": 49,
   "id": "4e8aa3fa",
   "metadata": {},
   "outputs": [
    {
     "data": {
      "text/plain": [
       "(681, 4)"
      ]
     },
     "execution_count": 49,
     "metadata": {},
     "output_type": "execute_result"
    }
   ],
   "source": [
    "missing_data_final.shape"
   ]
  },
  {
   "cell_type": "code",
   "execution_count": 50,
   "id": "2bf40374",
   "metadata": {},
   "outputs": [],
   "source": [
    "missing_data_final.drop('index',axis=1,inplace=True)"
   ]
  },
  {
   "cell_type": "code",
   "execution_count": 51,
   "id": "758c0c11",
   "metadata": {},
   "outputs": [],
   "source": [
    "# bringing date column to the first column\n",
    "column_to_move=missing_data_final.pop('new_date')\n",
    "missing_data_final.insert(0,'date',column_to_move)"
   ]
  },
  {
   "cell_type": "code",
   "execution_count": 52,
   "id": "aa0847a1",
   "metadata": {},
   "outputs": [],
   "source": [
    "missing_data_final['day']=missing_data_final['date'].dt.day\n",
    "missing_data_final['month']=missing_data_final['date'].dt.month\n",
    "missing_data_final['year']=missing_data_final['date'].dt.year"
   ]
  },
  {
   "cell_type": "code",
   "execution_count": 53,
   "id": "f30c5e9c",
   "metadata": {},
   "outputs": [],
   "source": [
    "eda_df=pd.concat([eda_df,missing_data_final],axis=0).reset_index(drop=True)"
   ]
  },
  {
   "cell_type": "code",
   "execution_count": 54,
   "id": "9980d5d2",
   "metadata": {},
   "outputs": [
    {
     "data": {
      "text/html": [
       "<div>\n",
       "<style scoped>\n",
       "    .dataframe tbody tr th:only-of-type {\n",
       "        vertical-align: middle;\n",
       "    }\n",
       "\n",
       "    .dataframe tbody tr th {\n",
       "        vertical-align: top;\n",
       "    }\n",
       "\n",
       "    .dataframe thead th {\n",
       "        text-align: right;\n",
       "    }\n",
       "</style>\n",
       "<table border=\"1\" class=\"dataframe\">\n",
       "  <thead>\n",
       "    <tr style=\"text-align: right;\">\n",
       "      <th></th>\n",
       "      <th>date</th>\n",
       "      <th>hour</th>\n",
       "      <th>demand</th>\n",
       "      <th>day</th>\n",
       "      <th>month</th>\n",
       "      <th>year</th>\n",
       "    </tr>\n",
       "  </thead>\n",
       "  <tbody>\n",
       "    <tr>\n",
       "      <th>0</th>\n",
       "      <td>2018-08-18</td>\n",
       "      <td>9</td>\n",
       "      <td>91</td>\n",
       "      <td>18</td>\n",
       "      <td>8</td>\n",
       "      <td>2018</td>\n",
       "    </tr>\n",
       "    <tr>\n",
       "      <th>1</th>\n",
       "      <td>2018-08-18</td>\n",
       "      <td>10</td>\n",
       "      <td>21</td>\n",
       "      <td>18</td>\n",
       "      <td>8</td>\n",
       "      <td>2018</td>\n",
       "    </tr>\n",
       "    <tr>\n",
       "      <th>2</th>\n",
       "      <td>2018-08-18</td>\n",
       "      <td>13</td>\n",
       "      <td>23</td>\n",
       "      <td>18</td>\n",
       "      <td>8</td>\n",
       "      <td>2018</td>\n",
       "    </tr>\n",
       "    <tr>\n",
       "      <th>3</th>\n",
       "      <td>2018-08-18</td>\n",
       "      <td>14</td>\n",
       "      <td>104</td>\n",
       "      <td>18</td>\n",
       "      <td>8</td>\n",
       "      <td>2018</td>\n",
       "    </tr>\n",
       "    <tr>\n",
       "      <th>4</th>\n",
       "      <td>2018-08-18</td>\n",
       "      <td>15</td>\n",
       "      <td>81</td>\n",
       "      <td>18</td>\n",
       "      <td>8</td>\n",
       "      <td>2018</td>\n",
       "    </tr>\n",
       "    <tr>\n",
       "      <th>...</th>\n",
       "      <td>...</td>\n",
       "      <td>...</td>\n",
       "      <td>...</td>\n",
       "      <td>...</td>\n",
       "      <td>...</td>\n",
       "      <td>...</td>\n",
       "    </tr>\n",
       "    <tr>\n",
       "      <th>18923</th>\n",
       "      <td>2020-12-26</td>\n",
       "      <td>19</td>\n",
       "      <td>103</td>\n",
       "      <td>26</td>\n",
       "      <td>12</td>\n",
       "      <td>2020</td>\n",
       "    </tr>\n",
       "    <tr>\n",
       "      <th>18924</th>\n",
       "      <td>2020-12-26</td>\n",
       "      <td>20</td>\n",
       "      <td>82</td>\n",
       "      <td>26</td>\n",
       "      <td>12</td>\n",
       "      <td>2020</td>\n",
       "    </tr>\n",
       "    <tr>\n",
       "      <th>18925</th>\n",
       "      <td>2020-12-26</td>\n",
       "      <td>21</td>\n",
       "      <td>92</td>\n",
       "      <td>26</td>\n",
       "      <td>12</td>\n",
       "      <td>2020</td>\n",
       "    </tr>\n",
       "    <tr>\n",
       "      <th>18926</th>\n",
       "      <td>2020-12-26</td>\n",
       "      <td>22</td>\n",
       "      <td>37</td>\n",
       "      <td>26</td>\n",
       "      <td>12</td>\n",
       "      <td>2020</td>\n",
       "    </tr>\n",
       "    <tr>\n",
       "      <th>18927</th>\n",
       "      <td>2020-12-26</td>\n",
       "      <td>23</td>\n",
       "      <td>58</td>\n",
       "      <td>26</td>\n",
       "      <td>12</td>\n",
       "      <td>2020</td>\n",
       "    </tr>\n",
       "  </tbody>\n",
       "</table>\n",
       "<p>18928 rows × 6 columns</p>\n",
       "</div>"
      ],
      "text/plain": [
       "            date  hour  demand  day  month  year\n",
       "0     2018-08-18     9      91   18      8  2018\n",
       "1     2018-08-18    10      21   18      8  2018\n",
       "2     2018-08-18    13      23   18      8  2018\n",
       "3     2018-08-18    14     104   18      8  2018\n",
       "4     2018-08-18    15      81   18      8  2018\n",
       "...          ...   ...     ...  ...    ...   ...\n",
       "18923 2020-12-26    19     103   26     12  2020\n",
       "18924 2020-12-26    20      82   26     12  2020\n",
       "18925 2020-12-26    21      92   26     12  2020\n",
       "18926 2020-12-26    22      37   26     12  2020\n",
       "18927 2020-12-26    23      58   26     12  2020\n",
       "\n",
       "[18928 rows x 6 columns]"
      ]
     },
     "execution_count": 54,
     "metadata": {},
     "output_type": "execute_result"
    }
   ],
   "source": [
    "eda_df"
   ]
  },
  {
   "cell_type": "code",
   "execution_count": 55,
   "id": "20e99144",
   "metadata": {},
   "outputs": [
    {
     "data": {
      "image/png": "[encoded data removed]",
      "text/plain": [
       "<Figure size 1584x720 with 1 Axes>"
      ]
     },
     "metadata": {
      "needs_background": "light"
     },
     "output_type": "display_data"
    }
   ],
   "source": [
    "plt.figure(figsize=(22,10))\n",
    "\n",
    "plt.plot(eda_df['date'], eda_df['demand'], label='Train')\n",
    "plt.legend(loc='best')\n",
    "plt.show()"
   ]
  },
  {
   "cell_type": "code",
   "execution_count": 56,
   "id": "597d1ddf",
   "metadata": {},
   "outputs": [
    {
     "data": {
      "text/plain": [
       "0"
      ]
     },
     "execution_count": 56,
     "metadata": {},
     "output_type": "execute_result"
    }
   ],
   "source": [
    "# cross check whether any missing date is present or not\n",
    "pd.date_range(start='2018-08-18',end='2021-02-28').difference(eda_df['date']).nunique()"
   ]
  },
  {
   "cell_type": "markdown",
   "id": "347f7d5e",
   "metadata": {},
   "source": [
    "##### No missing date present"
   ]
  },
  {
   "cell_type": "code",
   "execution_count": 57,
   "id": "69d62a98",
   "metadata": {},
   "outputs": [],
   "source": [
    "train_data=copy.deepcopy(eda_df)"
   ]
  },
  {
   "cell_type": "code",
   "execution_count": 58,
   "id": "37e6094d",
   "metadata": {},
   "outputs": [
    {
     "data": {
      "text/plain": [
       "Index(['date', 'hour', 'demand', 'day', 'month', 'year'], dtype='object')"
      ]
     },
     "execution_count": 58,
     "metadata": {},
     "output_type": "execute_result"
    }
   ],
   "source": [
    "train_data.columns"
   ]
  },
  {
   "cell_type": "code",
   "execution_count": 59,
   "id": "d0c17e15",
   "metadata": {},
   "outputs": [],
   "source": [
    "# dropping day, month, year since these are not required in model building\n",
    "train_data.drop(['day','month','year'],axis=1,inplace=True)"
   ]
  },
  {
   "cell_type": "code",
   "execution_count": 60,
   "id": "216fea12",
   "metadata": {},
   "outputs": [
    {
     "data": {
      "text/html": [
       "<div>\n",
       "<style scoped>\n",
       "    .dataframe tbody tr th:only-of-type {\n",
       "        vertical-align: middle;\n",
       "    }\n",
       "\n",
       "    .dataframe tbody tr th {\n",
       "        vertical-align: top;\n",
       "    }\n",
       "\n",
       "    .dataframe thead th {\n",
       "        text-align: right;\n",
       "    }\n",
       "</style>\n",
       "<table border=\"1\" class=\"dataframe\">\n",
       "  <thead>\n",
       "    <tr style=\"text-align: right;\">\n",
       "      <th></th>\n",
       "      <th>date</th>\n",
       "      <th>hour</th>\n",
       "      <th>demand</th>\n",
       "    </tr>\n",
       "  </thead>\n",
       "  <tbody>\n",
       "    <tr>\n",
       "      <th>0</th>\n",
       "      <td>2018-08-18</td>\n",
       "      <td>9</td>\n",
       "      <td>91</td>\n",
       "    </tr>\n",
       "    <tr>\n",
       "      <th>1</th>\n",
       "      <td>2018-08-18</td>\n",
       "      <td>10</td>\n",
       "      <td>21</td>\n",
       "    </tr>\n",
       "    <tr>\n",
       "      <th>2</th>\n",
       "      <td>2018-08-18</td>\n",
       "      <td>13</td>\n",
       "      <td>23</td>\n",
       "    </tr>\n",
       "    <tr>\n",
       "      <th>3</th>\n",
       "      <td>2018-08-18</td>\n",
       "      <td>14</td>\n",
       "      <td>104</td>\n",
       "    </tr>\n",
       "    <tr>\n",
       "      <th>4</th>\n",
       "      <td>2018-08-18</td>\n",
       "      <td>15</td>\n",
       "      <td>81</td>\n",
       "    </tr>\n",
       "    <tr>\n",
       "      <th>...</th>\n",
       "      <td>...</td>\n",
       "      <td>...</td>\n",
       "      <td>...</td>\n",
       "    </tr>\n",
       "    <tr>\n",
       "      <th>18923</th>\n",
       "      <td>2020-12-26</td>\n",
       "      <td>19</td>\n",
       "      <td>103</td>\n",
       "    </tr>\n",
       "    <tr>\n",
       "      <th>18924</th>\n",
       "      <td>2020-12-26</td>\n",
       "      <td>20</td>\n",
       "      <td>82</td>\n",
       "    </tr>\n",
       "    <tr>\n",
       "      <th>18925</th>\n",
       "      <td>2020-12-26</td>\n",
       "      <td>21</td>\n",
       "      <td>92</td>\n",
       "    </tr>\n",
       "    <tr>\n",
       "      <th>18926</th>\n",
       "      <td>2020-12-26</td>\n",
       "      <td>22</td>\n",
       "      <td>37</td>\n",
       "    </tr>\n",
       "    <tr>\n",
       "      <th>18927</th>\n",
       "      <td>2020-12-26</td>\n",
       "      <td>23</td>\n",
       "      <td>58</td>\n",
       "    </tr>\n",
       "  </tbody>\n",
       "</table>\n",
       "<p>18928 rows × 3 columns</p>\n",
       "</div>"
      ],
      "text/plain": [
       "            date  hour  demand\n",
       "0     2018-08-18     9      91\n",
       "1     2018-08-18    10      21\n",
       "2     2018-08-18    13      23\n",
       "3     2018-08-18    14     104\n",
       "4     2018-08-18    15      81\n",
       "...          ...   ...     ...\n",
       "18923 2020-12-26    19     103\n",
       "18924 2020-12-26    20      82\n",
       "18925 2020-12-26    21      92\n",
       "18926 2020-12-26    22      37\n",
       "18927 2020-12-26    23      58\n",
       "\n",
       "[18928 rows x 3 columns]"
      ]
     },
     "execution_count": 60,
     "metadata": {},
     "output_type": "execute_result"
    }
   ],
   "source": [
    "train_data"
   ]
  },
  {
   "cell_type": "code",
   "execution_count": 61,
   "id": "14bf5472",
   "metadata": {},
   "outputs": [],
   "source": [
    "# creating a date-time column, joining date and hour\n",
    "new_df=train_data[['date','hour']].melt('date',)\n",
    "new_df['date']=(pd.to_datetime(new_df['date'],dayfirst=True)+pd.to_timedelta(train_data['hour'].astype(int),unit='H'))"
   ]
  },
  {
   "cell_type": "code",
   "execution_count": 62,
   "id": "1b78e268",
   "metadata": {},
   "outputs": [],
   "source": [
    "new_df.rename(columns={'date':'date_time'},inplace=True)"
   ]
  },
  {
   "cell_type": "code",
   "execution_count": 63,
   "id": "9dcbe9c4",
   "metadata": {},
   "outputs": [],
   "source": [
    "train_data=pd.concat([train_data,pd.Series(new_df['date_time'])],axis=1).reset_index()"
   ]
  },
  {
   "cell_type": "code",
   "execution_count": 64,
   "id": "4d259963",
   "metadata": {},
   "outputs": [
    {
     "data": {
      "text/plain": [
       "Index(['index', 'date', 'hour', 'demand', 'date_time'], dtype='object')"
      ]
     },
     "execution_count": 64,
     "metadata": {},
     "output_type": "execute_result"
    }
   ],
   "source": [
    "train_data.columns"
   ]
  },
  {
   "cell_type": "code",
   "execution_count": 65,
   "id": "96857bcc",
   "metadata": {},
   "outputs": [],
   "source": [
    "# creating a dataframe of date_time and demand to fit into the Prophet model\n",
    "df=train_data[['date_time','demand']]"
   ]
  },
  {
   "cell_type": "code",
   "execution_count": 66,
   "id": "35596794",
   "metadata": {},
   "outputs": [],
   "source": [
    "df.columns=['ds','y']"
   ]
  },
  {
   "cell_type": "code",
   "execution_count": 67,
   "id": "b10c0c6a",
   "metadata": {},
   "outputs": [
    {
     "data": {
      "text/html": [
       "<div>\n",
       "<style scoped>\n",
       "    .dataframe tbody tr th:only-of-type {\n",
       "        vertical-align: middle;\n",
       "    }\n",
       "\n",
       "    .dataframe tbody tr th {\n",
       "        vertical-align: top;\n",
       "    }\n",
       "\n",
       "    .dataframe thead th {\n",
       "        text-align: right;\n",
       "    }\n",
       "</style>\n",
       "<table border=\"1\" class=\"dataframe\">\n",
       "  <thead>\n",
       "    <tr style=\"text-align: right;\">\n",
       "      <th></th>\n",
       "      <th>ds</th>\n",
       "      <th>y</th>\n",
       "    </tr>\n",
       "  </thead>\n",
       "  <tbody>\n",
       "    <tr>\n",
       "      <th>0</th>\n",
       "      <td>2018-08-18 09:00:00</td>\n",
       "      <td>91</td>\n",
       "    </tr>\n",
       "    <tr>\n",
       "      <th>1</th>\n",
       "      <td>2018-08-18 10:00:00</td>\n",
       "      <td>21</td>\n",
       "    </tr>\n",
       "    <tr>\n",
       "      <th>2</th>\n",
       "      <td>2018-08-18 13:00:00</td>\n",
       "      <td>23</td>\n",
       "    </tr>\n",
       "    <tr>\n",
       "      <th>3</th>\n",
       "      <td>2018-08-18 14:00:00</td>\n",
       "      <td>104</td>\n",
       "    </tr>\n",
       "    <tr>\n",
       "      <th>4</th>\n",
       "      <td>2018-08-18 15:00:00</td>\n",
       "      <td>81</td>\n",
       "    </tr>\n",
       "    <tr>\n",
       "      <th>...</th>\n",
       "      <td>...</td>\n",
       "      <td>...</td>\n",
       "    </tr>\n",
       "    <tr>\n",
       "      <th>18923</th>\n",
       "      <td>2020-12-26 19:00:00</td>\n",
       "      <td>103</td>\n",
       "    </tr>\n",
       "    <tr>\n",
       "      <th>18924</th>\n",
       "      <td>2020-12-26 20:00:00</td>\n",
       "      <td>82</td>\n",
       "    </tr>\n",
       "    <tr>\n",
       "      <th>18925</th>\n",
       "      <td>2020-12-26 21:00:00</td>\n",
       "      <td>92</td>\n",
       "    </tr>\n",
       "    <tr>\n",
       "      <th>18926</th>\n",
       "      <td>2020-12-26 22:00:00</td>\n",
       "      <td>37</td>\n",
       "    </tr>\n",
       "    <tr>\n",
       "      <th>18927</th>\n",
       "      <td>2020-12-26 23:00:00</td>\n",
       "      <td>58</td>\n",
       "    </tr>\n",
       "  </tbody>\n",
       "</table>\n",
       "<p>18928 rows × 2 columns</p>\n",
       "</div>"
      ],
      "text/plain": [
       "                       ds    y\n",
       "0     2018-08-18 09:00:00   91\n",
       "1     2018-08-18 10:00:00   21\n",
       "2     2018-08-18 13:00:00   23\n",
       "3     2018-08-18 14:00:00  104\n",
       "4     2018-08-18 15:00:00   81\n",
       "...                   ...  ...\n",
       "18923 2020-12-26 19:00:00  103\n",
       "18924 2020-12-26 20:00:00   82\n",
       "18925 2020-12-26 21:00:00   92\n",
       "18926 2020-12-26 22:00:00   37\n",
       "18927 2020-12-26 23:00:00   58\n",
       "\n",
       "[18928 rows x 2 columns]"
      ]
     },
     "execution_count": 67,
     "metadata": {},
     "output_type": "execute_result"
    }
   ],
   "source": [
    "df"
   ]
  },
  {
   "cell_type": "markdown",
   "id": "95edba36",
   "metadata": {},
   "source": [
    "### Predective Modelling\n",
    "### FB-Prophet"
   ]
  },
  {
   "cell_type": "code",
   "execution_count": 68,
   "id": "bd446e77",
   "metadata": {},
   "outputs": [],
   "source": [
    "#importing FbProphet algorithm\n",
    "from fbprophet import Prophet"
   ]
  },
  {
   "cell_type": "code",
   "execution_count": 69,
   "id": "ba9622ef",
   "metadata": {},
   "outputs": [],
   "source": [
    "model=Prophet()"
   ]
  },
  {
   "cell_type": "code",
   "execution_count": 70,
   "id": "af48f777",
   "metadata": {},
   "outputs": [
    {
     "data": {
      "text/plain": [
       "<fbprophet.forecaster.Prophet at 0x1db022d6850>"
      ]
     },
     "execution_count": 70,
     "metadata": {},
     "output_type": "execute_result"
    }
   ],
   "source": [
    "model.fit(df)"
   ]
  },
  {
   "cell_type": "code",
   "execution_count": 71,
   "id": "55ee6941",
   "metadata": {},
   "outputs": [
    {
     "data": {
      "text/plain": [
       "393"
      ]
     },
     "execution_count": 71,
     "metadata": {},
     "output_type": "execute_result"
    }
   ],
   "source": [
    "len(pd.date_range(start = '2021-03-01', end = '2022-03-28' ))"
   ]
  },
  {
   "cell_type": "markdown",
   "id": "66af2b8c",
   "metadata": {},
   "source": [
    "##### 393 days of future data to be predicted, so 393*24=9432 hours to be predicted"
   ]
  },
  {
   "cell_type": "code",
   "execution_count": 72,
   "id": "ade63eb2",
   "metadata": {},
   "outputs": [],
   "source": [
    "# making a future dataframe\n",
    "future = model.make_future_dataframe(periods=9432, freq='H')"
   ]
  },
  {
   "cell_type": "code",
   "execution_count": 73,
   "id": "2106a350",
   "metadata": {},
   "outputs": [],
   "source": [
    "fcst=model.predict(future)"
   ]
  },
  {
   "cell_type": "code",
   "execution_count": 74,
   "id": "5e8bae9e",
   "metadata": {},
   "outputs": [
    {
     "data": {
      "image/png": "[encoded data removed]",
      "text/plain": [
       "<Figure size 720x432 with 1 Axes>"
      ]
     },
     "metadata": {},
     "output_type": "display_data"
    }
   ],
   "source": [
    "fig=model.plot(fcst)"
   ]
  },
  {
   "cell_type": "code",
   "execution_count": 75,
   "id": "643ec4e4",
   "metadata": {},
   "outputs": [
    {
     "data": {
      "text/html": [
       "<div>\n",
       "<style scoped>\n",
       "    .dataframe tbody tr th:only-of-type {\n",
       "        vertical-align: middle;\n",
       "    }\n",
       "\n",
       "    .dataframe tbody tr th {\n",
       "        vertical-align: top;\n",
       "    }\n",
       "\n",
       "    .dataframe thead th {\n",
       "        text-align: right;\n",
       "    }\n",
       "</style>\n",
       "<table border=\"1\" class=\"dataframe\">\n",
       "  <thead>\n",
       "    <tr style=\"text-align: right;\">\n",
       "      <th></th>\n",
       "      <th>ds</th>\n",
       "      <th>trend</th>\n",
       "      <th>yhat_lower</th>\n",
       "      <th>yhat_upper</th>\n",
       "      <th>trend_lower</th>\n",
       "      <th>trend_upper</th>\n",
       "      <th>additive_terms</th>\n",
       "      <th>additive_terms_lower</th>\n",
       "      <th>additive_terms_upper</th>\n",
       "      <th>daily</th>\n",
       "      <th>...</th>\n",
       "      <th>weekly</th>\n",
       "      <th>weekly_lower</th>\n",
       "      <th>weekly_upper</th>\n",
       "      <th>yearly</th>\n",
       "      <th>yearly_lower</th>\n",
       "      <th>yearly_upper</th>\n",
       "      <th>multiplicative_terms</th>\n",
       "      <th>multiplicative_terms_lower</th>\n",
       "      <th>multiplicative_terms_upper</th>\n",
       "      <th>yhat</th>\n",
       "    </tr>\n",
       "  </thead>\n",
       "  <tbody>\n",
       "    <tr>\n",
       "      <th>0</th>\n",
       "      <td>2018-08-18 09:00:00</td>\n",
       "      <td>57.307652</td>\n",
       "      <td>11.513471</td>\n",
       "      <td>104.634020</td>\n",
       "      <td>57.307652</td>\n",
       "      <td>57.307652</td>\n",
       "      <td>-1.764159</td>\n",
       "      <td>-1.764159</td>\n",
       "      <td>-1.764159</td>\n",
       "      <td>-1.985993</td>\n",
       "      <td>...</td>\n",
       "      <td>11.568220</td>\n",
       "      <td>11.568220</td>\n",
       "      <td>11.568220</td>\n",
       "      <td>-11.346386</td>\n",
       "      <td>-11.346386</td>\n",
       "      <td>-11.346386</td>\n",
       "      <td>0.0</td>\n",
       "      <td>0.0</td>\n",
       "      <td>0.0</td>\n",
       "      <td>55.543493</td>\n",
       "    </tr>\n",
       "    <tr>\n",
       "      <th>1</th>\n",
       "      <td>2018-08-18 10:00:00</td>\n",
       "      <td>57.310238</td>\n",
       "      <td>13.556172</td>\n",
       "      <td>109.682710</td>\n",
       "      <td>57.310238</td>\n",
       "      <td>57.310238</td>\n",
       "      <td>5.468945</td>\n",
       "      <td>5.468945</td>\n",
       "      <td>5.468945</td>\n",
       "      <td>4.810876</td>\n",
       "      <td>...</td>\n",
       "      <td>11.966293</td>\n",
       "      <td>11.966293</td>\n",
       "      <td>11.966293</td>\n",
       "      <td>-11.308224</td>\n",
       "      <td>-11.308224</td>\n",
       "      <td>-11.308224</td>\n",
       "      <td>0.0</td>\n",
       "      <td>0.0</td>\n",
       "      <td>0.0</td>\n",
       "      <td>62.779183</td>\n",
       "    </tr>\n",
       "    <tr>\n",
       "      <th>2</th>\n",
       "      <td>2018-08-18 13:00:00</td>\n",
       "      <td>57.317994</td>\n",
       "      <td>33.356488</td>\n",
       "      <td>126.004441</td>\n",
       "      <td>57.317994</td>\n",
       "      <td>57.317994</td>\n",
       "      <td>24.603740</td>\n",
       "      <td>24.603740</td>\n",
       "      <td>24.603740</td>\n",
       "      <td>22.834910</td>\n",
       "      <td>...</td>\n",
       "      <td>12.962797</td>\n",
       "      <td>12.962797</td>\n",
       "      <td>12.962797</td>\n",
       "      <td>-11.193967</td>\n",
       "      <td>-11.193967</td>\n",
       "      <td>-11.193967</td>\n",
       "      <td>0.0</td>\n",
       "      <td>0.0</td>\n",
       "      <td>0.0</td>\n",
       "      <td>81.921734</td>\n",
       "    </tr>\n",
       "    <tr>\n",
       "      <th>3</th>\n",
       "      <td>2018-08-18 14:00:00</td>\n",
       "      <td>57.320579</td>\n",
       "      <td>35.519128</td>\n",
       "      <td>132.321889</td>\n",
       "      <td>57.320579</td>\n",
       "      <td>57.320579</td>\n",
       "      <td>27.004376</td>\n",
       "      <td>27.004376</td>\n",
       "      <td>27.004376</td>\n",
       "      <td>24.938978</td>\n",
       "      <td>...</td>\n",
       "      <td>13.221360</td>\n",
       "      <td>13.221360</td>\n",
       "      <td>13.221360</td>\n",
       "      <td>-11.155963</td>\n",
       "      <td>-11.155963</td>\n",
       "      <td>-11.155963</td>\n",
       "      <td>0.0</td>\n",
       "      <td>0.0</td>\n",
       "      <td>0.0</td>\n",
       "      <td>84.324955</td>\n",
       "    </tr>\n",
       "    <tr>\n",
       "      <th>4</th>\n",
       "      <td>2018-08-18 15:00:00</td>\n",
       "      <td>57.323164</td>\n",
       "      <td>36.090483</td>\n",
       "      <td>132.250238</td>\n",
       "      <td>57.323164</td>\n",
       "      <td>57.323164</td>\n",
       "      <td>27.754222</td>\n",
       "      <td>27.754222</td>\n",
       "      <td>27.754222</td>\n",
       "      <td>25.432475</td>\n",
       "      <td>...</td>\n",
       "      <td>13.439749</td>\n",
       "      <td>13.439749</td>\n",
       "      <td>13.439749</td>\n",
       "      <td>-11.118002</td>\n",
       "      <td>-11.118002</td>\n",
       "      <td>-11.118002</td>\n",
       "      <td>0.0</td>\n",
       "      <td>0.0</td>\n",
       "      <td>0.0</td>\n",
       "      <td>85.077387</td>\n",
       "    </tr>\n",
       "    <tr>\n",
       "      <th>...</th>\n",
       "      <td>...</td>\n",
       "      <td>...</td>\n",
       "      <td>...</td>\n",
       "      <td>...</td>\n",
       "      <td>...</td>\n",
       "      <td>...</td>\n",
       "      <td>...</td>\n",
       "      <td>...</td>\n",
       "      <td>...</td>\n",
       "      <td>...</td>\n",
       "      <td>...</td>\n",
       "      <td>...</td>\n",
       "      <td>...</td>\n",
       "      <td>...</td>\n",
       "      <td>...</td>\n",
       "      <td>...</td>\n",
       "      <td>...</td>\n",
       "      <td>...</td>\n",
       "      <td>...</td>\n",
       "      <td>...</td>\n",
       "      <td>...</td>\n",
       "    </tr>\n",
       "    <tr>\n",
       "      <th>28355</th>\n",
       "      <td>2022-03-28 19:00:00</td>\n",
       "      <td>70.802560</td>\n",
       "      <td>21.286870</td>\n",
       "      <td>121.147796</td>\n",
       "      <td>61.521585</td>\n",
       "      <td>79.733635</td>\n",
       "      <td>0.749722</td>\n",
       "      <td>0.749722</td>\n",
       "      <td>0.749722</td>\n",
       "      <td>10.629182</td>\n",
       "      <td>...</td>\n",
       "      <td>-5.670459</td>\n",
       "      <td>-5.670459</td>\n",
       "      <td>-5.670459</td>\n",
       "      <td>-4.209001</td>\n",
       "      <td>-4.209001</td>\n",
       "      <td>-4.209001</td>\n",
       "      <td>0.0</td>\n",
       "      <td>0.0</td>\n",
       "      <td>0.0</td>\n",
       "      <td>71.552282</td>\n",
       "    </tr>\n",
       "    <tr>\n",
       "      <th>28356</th>\n",
       "      <td>2022-03-28 20:00:00</td>\n",
       "      <td>70.802056</td>\n",
       "      <td>15.362783</td>\n",
       "      <td>111.232528</td>\n",
       "      <td>61.520264</td>\n",
       "      <td>79.734547</td>\n",
       "      <td>-7.448820</td>\n",
       "      <td>-7.448820</td>\n",
       "      <td>-7.448820</td>\n",
       "      <td>2.515533</td>\n",
       "      <td>...</td>\n",
       "      <td>-5.759103</td>\n",
       "      <td>-5.759103</td>\n",
       "      <td>-5.759103</td>\n",
       "      <td>-4.205250</td>\n",
       "      <td>-4.205250</td>\n",
       "      <td>-4.205250</td>\n",
       "      <td>0.0</td>\n",
       "      <td>0.0</td>\n",
       "      <td>0.0</td>\n",
       "      <td>63.353237</td>\n",
       "    </tr>\n",
       "    <tr>\n",
       "      <th>28357</th>\n",
       "      <td>2022-03-28 21:00:00</td>\n",
       "      <td>70.801553</td>\n",
       "      <td>5.454946</td>\n",
       "      <td>106.251079</td>\n",
       "      <td>61.518943</td>\n",
       "      <td>79.735414</td>\n",
       "      <td>-14.464218</td>\n",
       "      <td>-14.464218</td>\n",
       "      <td>-14.464218</td>\n",
       "      <td>-4.431880</td>\n",
       "      <td>...</td>\n",
       "      <td>-5.830932</td>\n",
       "      <td>-5.830932</td>\n",
       "      <td>-5.830932</td>\n",
       "      <td>-4.201407</td>\n",
       "      <td>-4.201407</td>\n",
       "      <td>-4.201407</td>\n",
       "      <td>0.0</td>\n",
       "      <td>0.0</td>\n",
       "      <td>0.0</td>\n",
       "      <td>56.337335</td>\n",
       "    </tr>\n",
       "    <tr>\n",
       "      <th>28358</th>\n",
       "      <td>2022-03-28 22:00:00</td>\n",
       "      <td>70.801049</td>\n",
       "      <td>6.760741</td>\n",
       "      <td>101.088618</td>\n",
       "      <td>61.517622</td>\n",
       "      <td>79.736280</td>\n",
       "      <td>-18.956503</td>\n",
       "      <td>-18.956503</td>\n",
       "      <td>-18.956503</td>\n",
       "      <td>-8.871408</td>\n",
       "      <td>...</td>\n",
       "      <td>-5.887623</td>\n",
       "      <td>-5.887623</td>\n",
       "      <td>-5.887623</td>\n",
       "      <td>-4.197473</td>\n",
       "      <td>-4.197473</td>\n",
       "      <td>-4.197473</td>\n",
       "      <td>0.0</td>\n",
       "      <td>0.0</td>\n",
       "      <td>0.0</td>\n",
       "      <td>51.844546</td>\n",
       "    </tr>\n",
       "    <tr>\n",
       "      <th>28359</th>\n",
       "      <td>2022-03-28 23:00:00</td>\n",
       "      <td>70.800546</td>\n",
       "      <td>0.757444</td>\n",
       "      <td>97.881010</td>\n",
       "      <td>61.516301</td>\n",
       "      <td>79.737146</td>\n",
       "      <td>-21.405746</td>\n",
       "      <td>-21.405746</td>\n",
       "      <td>-21.405746</td>\n",
       "      <td>-11.281426</td>\n",
       "      <td>...</td>\n",
       "      <td>-5.930871</td>\n",
       "      <td>-5.930871</td>\n",
       "      <td>-5.930871</td>\n",
       "      <td>-4.193449</td>\n",
       "      <td>-4.193449</td>\n",
       "      <td>-4.193449</td>\n",
       "      <td>0.0</td>\n",
       "      <td>0.0</td>\n",
       "      <td>0.0</td>\n",
       "      <td>49.394799</td>\n",
       "    </tr>\n",
       "  </tbody>\n",
       "</table>\n",
       "<p>28360 rows × 22 columns</p>\n",
       "</div>"
      ],
      "text/plain": [
       "                       ds      trend  yhat_lower  yhat_upper  trend_lower  \\\n",
       "0     2018-08-18 09:00:00  57.307652   11.513471  104.634020    57.307652   \n",
       "1     2018-08-18 10:00:00  57.310238   13.556172  109.682710    57.310238   \n",
       "2     2018-08-18 13:00:00  57.317994   33.356488  126.004441    57.317994   \n",
       "3     2018-08-18 14:00:00  57.320579   35.519128  132.321889    57.320579   \n",
       "4     2018-08-18 15:00:00  57.323164   36.090483  132.250238    57.323164   \n",
       "...                   ...        ...         ...         ...          ...   \n",
       "28355 2022-03-28 19:00:00  70.802560   21.286870  121.147796    61.521585   \n",
       "28356 2022-03-28 20:00:00  70.802056   15.362783  111.232528    61.520264   \n",
       "28357 2022-03-28 21:00:00  70.801553    5.454946  106.251079    61.518943   \n",
       "28358 2022-03-28 22:00:00  70.801049    6.760741  101.088618    61.517622   \n",
       "28359 2022-03-28 23:00:00  70.800546    0.757444   97.881010    61.516301   \n",
       "\n",
       "       trend_upper  additive_terms  additive_terms_lower  \\\n",
       "0        57.307652       -1.764159             -1.764159   \n",
       "1        57.310238        5.468945              5.468945   \n",
       "2        57.317994       24.603740             24.603740   \n",
       "3        57.320579       27.004376             27.004376   \n",
       "4        57.323164       27.754222             27.754222   \n",
       "...            ...             ...                   ...   \n",
       "28355    79.733635        0.749722              0.749722   \n",
       "28356    79.734547       -7.448820             -7.448820   \n",
       "28357    79.735414      -14.464218            -14.464218   \n",
       "28358    79.736280      -18.956503            -18.956503   \n",
       "28359    79.737146      -21.405746            -21.405746   \n",
       "\n",
       "       additive_terms_upper      daily  ...     weekly  weekly_lower  \\\n",
       "0                 -1.764159  -1.985993  ...  11.568220     11.568220   \n",
       "1                  5.468945   4.810876  ...  11.966293     11.966293   \n",
       "2                 24.603740  22.834910  ...  12.962797     12.962797   \n",
       "3                 27.004376  24.938978  ...  13.221360     13.221360   \n",
       "4                 27.754222  25.432475  ...  13.439749     13.439749   \n",
       "...                     ...        ...  ...        ...           ...   \n",
       "28355              0.749722  10.629182  ...  -5.670459     -5.670459   \n",
       "28356             -7.448820   2.515533  ...  -5.759103     -5.759103   \n",
       "28357            -14.464218  -4.431880  ...  -5.830932     -5.830932   \n",
       "28358            -18.956503  -8.871408  ...  -5.887623     -5.887623   \n",
       "28359            -21.405746 -11.281426  ...  -5.930871     -5.930871   \n",
       "\n",
       "       weekly_upper     yearly  yearly_lower  yearly_upper  \\\n",
       "0         11.568220 -11.346386    -11.346386    -11.346386   \n",
       "1         11.966293 -11.308224    -11.308224    -11.308224   \n",
       "2         12.962797 -11.193967    -11.193967    -11.193967   \n",
       "3         13.221360 -11.155963    -11.155963    -11.155963   \n",
       "4         13.439749 -11.118002    -11.118002    -11.118002   \n",
       "...             ...        ...           ...           ...   \n",
       "28355     -5.670459  -4.209001     -4.209001     -4.209001   \n",
       "28356     -5.759103  -4.205250     -4.205250     -4.205250   \n",
       "28357     -5.830932  -4.201407     -4.201407     -4.201407   \n",
       "28358     -5.887623  -4.197473     -4.197473     -4.197473   \n",
       "28359     -5.930871  -4.193449     -4.193449     -4.193449   \n",
       "\n",
       "       multiplicative_terms  multiplicative_terms_lower  \\\n",
       "0                       0.0                         0.0   \n",
       "1                       0.0                         0.0   \n",
       "2                       0.0                         0.0   \n",
       "3                       0.0                         0.0   \n",
       "4                       0.0                         0.0   \n",
       "...                     ...                         ...   \n",
       "28355                   0.0                         0.0   \n",
       "28356                   0.0                         0.0   \n",
       "28357                   0.0                         0.0   \n",
       "28358                   0.0                         0.0   \n",
       "28359                   0.0                         0.0   \n",
       "\n",
       "       multiplicative_terms_upper       yhat  \n",
       "0                             0.0  55.543493  \n",
       "1                             0.0  62.779183  \n",
       "2                             0.0  81.921734  \n",
       "3                             0.0  84.324955  \n",
       "4                             0.0  85.077387  \n",
       "...                           ...        ...  \n",
       "28355                         0.0  71.552282  \n",
       "28356                         0.0  63.353237  \n",
       "28357                         0.0  56.337335  \n",
       "28358                         0.0  51.844546  \n",
       "28359                         0.0  49.394799  \n",
       "\n",
       "[28360 rows x 22 columns]"
      ]
     },
     "execution_count": 75,
     "metadata": {},
     "output_type": "execute_result"
    }
   ],
   "source": [
    "fcst"
   ]
  },
  {
   "cell_type": "code",
   "execution_count": 76,
   "id": "f25a8311",
   "metadata": {},
   "outputs": [
    {
     "data": {
      "text/plain": [
       "Index(['ds', 'trend', 'yhat_lower', 'yhat_upper', 'trend_lower', 'trend_upper',\n",
       "       'additive_terms', 'additive_terms_lower', 'additive_terms_upper',\n",
       "       'daily', 'daily_lower', 'daily_upper', 'weekly', 'weekly_lower',\n",
       "       'weekly_upper', 'yearly', 'yearly_lower', 'yearly_upper',\n",
       "       'multiplicative_terms', 'multiplicative_terms_lower',\n",
       "       'multiplicative_terms_upper', 'yhat'],\n",
       "      dtype='object')"
      ]
     },
     "execution_count": 76,
     "metadata": {},
     "output_type": "execute_result"
    }
   ],
   "source": [
    "fcst.columns"
   ]
  },
  {
   "cell_type": "markdown",
   "id": "1280c9e6",
   "metadata": {},
   "source": [
    "### 'yhat' is the predicted variable"
   ]
  },
  {
   "cell_type": "markdown",
   "id": "256c6c92",
   "metadata": {},
   "source": [
    "#### future data is from index 18928 to last index of the dataframe"
   ]
  },
  {
   "cell_type": "code",
   "execution_count": 77,
   "id": "45b46fe6",
   "metadata": {},
   "outputs": [],
   "source": [
    "forecast_df=fcst[['ds','yhat']][18928:]"
   ]
  },
  {
   "cell_type": "code",
   "execution_count": 78,
   "id": "d5f9811a",
   "metadata": {},
   "outputs": [
    {
     "data": {
      "text/html": [
       "<div>\n",
       "<style scoped>\n",
       "    .dataframe tbody tr th:only-of-type {\n",
       "        vertical-align: middle;\n",
       "    }\n",
       "\n",
       "    .dataframe tbody tr th {\n",
       "        vertical-align: top;\n",
       "    }\n",
       "\n",
       "    .dataframe thead th {\n",
       "        text-align: right;\n",
       "    }\n",
       "</style>\n",
       "<table border=\"1\" class=\"dataframe\">\n",
       "  <thead>\n",
       "    <tr style=\"text-align: right;\">\n",
       "      <th></th>\n",
       "      <th>ds</th>\n",
       "      <th>yhat</th>\n",
       "    </tr>\n",
       "  </thead>\n",
       "  <tbody>\n",
       "    <tr>\n",
       "      <th>18928</th>\n",
       "      <td>2021-03-01 00:00:00</td>\n",
       "      <td>67.783744</td>\n",
       "    </tr>\n",
       "    <tr>\n",
       "      <th>18929</th>\n",
       "      <td>2021-03-01 01:00:00</td>\n",
       "      <td>63.979325</td>\n",
       "    </tr>\n",
       "    <tr>\n",
       "      <th>18930</th>\n",
       "      <td>2021-03-01 02:00:00</td>\n",
       "      <td>59.352700</td>\n",
       "    </tr>\n",
       "    <tr>\n",
       "      <th>18931</th>\n",
       "      <td>2021-03-01 03:00:00</td>\n",
       "      <td>55.645793</td>\n",
       "    </tr>\n",
       "    <tr>\n",
       "      <th>18932</th>\n",
       "      <td>2021-03-01 04:00:00</td>\n",
       "      <td>54.590364</td>\n",
       "    </tr>\n",
       "    <tr>\n",
       "      <th>...</th>\n",
       "      <td>...</td>\n",
       "      <td>...</td>\n",
       "    </tr>\n",
       "    <tr>\n",
       "      <th>28355</th>\n",
       "      <td>2022-03-28 19:00:00</td>\n",
       "      <td>71.552282</td>\n",
       "    </tr>\n",
       "    <tr>\n",
       "      <th>28356</th>\n",
       "      <td>2022-03-28 20:00:00</td>\n",
       "      <td>63.353237</td>\n",
       "    </tr>\n",
       "    <tr>\n",
       "      <th>28357</th>\n",
       "      <td>2022-03-28 21:00:00</td>\n",
       "      <td>56.337335</td>\n",
       "    </tr>\n",
       "    <tr>\n",
       "      <th>28358</th>\n",
       "      <td>2022-03-28 22:00:00</td>\n",
       "      <td>51.844546</td>\n",
       "    </tr>\n",
       "    <tr>\n",
       "      <th>28359</th>\n",
       "      <td>2022-03-28 23:00:00</td>\n",
       "      <td>49.394799</td>\n",
       "    </tr>\n",
       "  </tbody>\n",
       "</table>\n",
       "<p>9432 rows × 2 columns</p>\n",
       "</div>"
      ],
      "text/plain": [
       "                       ds       yhat\n",
       "18928 2021-03-01 00:00:00  67.783744\n",
       "18929 2021-03-01 01:00:00  63.979325\n",
       "18930 2021-03-01 02:00:00  59.352700\n",
       "18931 2021-03-01 03:00:00  55.645793\n",
       "18932 2021-03-01 04:00:00  54.590364\n",
       "...                   ...        ...\n",
       "28355 2022-03-28 19:00:00  71.552282\n",
       "28356 2022-03-28 20:00:00  63.353237\n",
       "28357 2022-03-28 21:00:00  56.337335\n",
       "28358 2022-03-28 22:00:00  51.844546\n",
       "28359 2022-03-28 23:00:00  49.394799\n",
       "\n",
       "[9432 rows x 2 columns]"
      ]
     },
     "execution_count": 78,
     "metadata": {},
     "output_type": "execute_result"
    }
   ],
   "source": [
    "forecast_df"
   ]
  },
  {
   "cell_type": "code",
   "execution_count": 79,
   "id": "a32faeca",
   "metadata": {},
   "outputs": [],
   "source": [
    "forecast_df=forecast_df.reset_index(drop=True)"
   ]
  },
  {
   "cell_type": "code",
   "execution_count": 80,
   "id": "9e608679",
   "metadata": {},
   "outputs": [
    {
     "data": {
      "text/html": [
       "<div>\n",
       "<style scoped>\n",
       "    .dataframe tbody tr th:only-of-type {\n",
       "        vertical-align: middle;\n",
       "    }\n",
       "\n",
       "    .dataframe tbody tr th {\n",
       "        vertical-align: top;\n",
       "    }\n",
       "\n",
       "    .dataframe thead th {\n",
       "        text-align: right;\n",
       "    }\n",
       "</style>\n",
       "<table border=\"1\" class=\"dataframe\">\n",
       "  <thead>\n",
       "    <tr style=\"text-align: right;\">\n",
       "      <th></th>\n",
       "      <th>ds</th>\n",
       "      <th>yhat</th>\n",
       "    </tr>\n",
       "  </thead>\n",
       "  <tbody>\n",
       "    <tr>\n",
       "      <th>0</th>\n",
       "      <td>2021-03-01 00:00:00</td>\n",
       "      <td>67.783744</td>\n",
       "    </tr>\n",
       "    <tr>\n",
       "      <th>1</th>\n",
       "      <td>2021-03-01 01:00:00</td>\n",
       "      <td>63.979325</td>\n",
       "    </tr>\n",
       "    <tr>\n",
       "      <th>2</th>\n",
       "      <td>2021-03-01 02:00:00</td>\n",
       "      <td>59.352700</td>\n",
       "    </tr>\n",
       "    <tr>\n",
       "      <th>3</th>\n",
       "      <td>2021-03-01 03:00:00</td>\n",
       "      <td>55.645793</td>\n",
       "    </tr>\n",
       "    <tr>\n",
       "      <th>4</th>\n",
       "      <td>2021-03-01 04:00:00</td>\n",
       "      <td>54.590364</td>\n",
       "    </tr>\n",
       "    <tr>\n",
       "      <th>...</th>\n",
       "      <td>...</td>\n",
       "      <td>...</td>\n",
       "    </tr>\n",
       "    <tr>\n",
       "      <th>9427</th>\n",
       "      <td>2022-03-28 19:00:00</td>\n",
       "      <td>71.552282</td>\n",
       "    </tr>\n",
       "    <tr>\n",
       "      <th>9428</th>\n",
       "      <td>2022-03-28 20:00:00</td>\n",
       "      <td>63.353237</td>\n",
       "    </tr>\n",
       "    <tr>\n",
       "      <th>9429</th>\n",
       "      <td>2022-03-28 21:00:00</td>\n",
       "      <td>56.337335</td>\n",
       "    </tr>\n",
       "    <tr>\n",
       "      <th>9430</th>\n",
       "      <td>2022-03-28 22:00:00</td>\n",
       "      <td>51.844546</td>\n",
       "    </tr>\n",
       "    <tr>\n",
       "      <th>9431</th>\n",
       "      <td>2022-03-28 23:00:00</td>\n",
       "      <td>49.394799</td>\n",
       "    </tr>\n",
       "  </tbody>\n",
       "</table>\n",
       "<p>9432 rows × 2 columns</p>\n",
       "</div>"
      ],
      "text/plain": [
       "                      ds       yhat\n",
       "0    2021-03-01 00:00:00  67.783744\n",
       "1    2021-03-01 01:00:00  63.979325\n",
       "2    2021-03-01 02:00:00  59.352700\n",
       "3    2021-03-01 03:00:00  55.645793\n",
       "4    2021-03-01 04:00:00  54.590364\n",
       "...                  ...        ...\n",
       "9427 2022-03-28 19:00:00  71.552282\n",
       "9428 2022-03-28 20:00:00  63.353237\n",
       "9429 2022-03-28 21:00:00  56.337335\n",
       "9430 2022-03-28 22:00:00  51.844546\n",
       "9431 2022-03-28 23:00:00  49.394799\n",
       "\n",
       "[9432 rows x 2 columns]"
      ]
     },
     "execution_count": 80,
     "metadata": {},
     "output_type": "execute_result"
    }
   ],
   "source": [
    "forecast_df"
   ]
  },
  {
   "cell_type": "markdown",
   "id": "f3258511",
   "metadata": {},
   "source": [
    "#### test data has been predicted but some hours are missing in the test_data, so merging only the common hours"
   ]
  },
  {
   "cell_type": "code",
   "execution_count": 81,
   "id": "f1b0bd6c",
   "metadata": {},
   "outputs": [],
   "source": [
    "trans_valid_data=valid_data[['date','hour']].melt('date',)\n",
    "trans_valid_data['date']=(pd.to_datetime(trans_valid_data['date'],dayfirst=True)+pd.to_timedelta(valid_data['hour'].astype(int),unit='H'))"
   ]
  },
  {
   "cell_type": "code",
   "execution_count": 82,
   "id": "67113b85",
   "metadata": {},
   "outputs": [],
   "source": [
    "trans_valid_data.rename(columns={'date':'ds'},inplace=True)"
   ]
  },
  {
   "cell_type": "code",
   "execution_count": 83,
   "id": "04c091b7",
   "metadata": {},
   "outputs": [],
   "source": [
    "valid_data=pd.concat([valid_data,pd.Series(trans_valid_data['ds'])],axis=1).reset_index()"
   ]
  },
  {
   "cell_type": "code",
   "execution_count": 84,
   "id": "0ab77674",
   "metadata": {},
   "outputs": [
    {
     "data": {
      "text/html": [
       "<div>\n",
       "<style scoped>\n",
       "    .dataframe tbody tr th:only-of-type {\n",
       "        vertical-align: middle;\n",
       "    }\n",
       "\n",
       "    .dataframe tbody tr th {\n",
       "        vertical-align: top;\n",
       "    }\n",
       "\n",
       "    .dataframe thead th {\n",
       "        text-align: right;\n",
       "    }\n",
       "</style>\n",
       "<table border=\"1\" class=\"dataframe\">\n",
       "  <thead>\n",
       "    <tr style=\"text-align: right;\">\n",
       "      <th></th>\n",
       "      <th>index</th>\n",
       "      <th>date</th>\n",
       "      <th>hour</th>\n",
       "      <th>ds</th>\n",
       "    </tr>\n",
       "  </thead>\n",
       "  <tbody>\n",
       "    <tr>\n",
       "      <th>0</th>\n",
       "      <td>0</td>\n",
       "      <td>2021-03-01</td>\n",
       "      <td>0</td>\n",
       "      <td>2021-03-01 00:00:00</td>\n",
       "    </tr>\n",
       "    <tr>\n",
       "      <th>1</th>\n",
       "      <td>1</td>\n",
       "      <td>2021-03-01</td>\n",
       "      <td>1</td>\n",
       "      <td>2021-03-01 01:00:00</td>\n",
       "    </tr>\n",
       "    <tr>\n",
       "      <th>2</th>\n",
       "      <td>2</td>\n",
       "      <td>2021-03-01</td>\n",
       "      <td>2</td>\n",
       "      <td>2021-03-01 02:00:00</td>\n",
       "    </tr>\n",
       "    <tr>\n",
       "      <th>3</th>\n",
       "      <td>3</td>\n",
       "      <td>2021-03-01</td>\n",
       "      <td>3</td>\n",
       "      <td>2021-03-01 03:00:00</td>\n",
       "    </tr>\n",
       "    <tr>\n",
       "      <th>4</th>\n",
       "      <td>4</td>\n",
       "      <td>2021-03-01</td>\n",
       "      <td>5</td>\n",
       "      <td>2021-03-01 05:00:00</td>\n",
       "    </tr>\n",
       "    <tr>\n",
       "      <th>...</th>\n",
       "      <td>...</td>\n",
       "      <td>...</td>\n",
       "      <td>...</td>\n",
       "      <td>...</td>\n",
       "    </tr>\n",
       "    <tr>\n",
       "      <th>7645</th>\n",
       "      <td>7645</td>\n",
       "      <td>2022-03-28</td>\n",
       "      <td>19</td>\n",
       "      <td>2022-03-28 19:00:00</td>\n",
       "    </tr>\n",
       "    <tr>\n",
       "      <th>7646</th>\n",
       "      <td>7646</td>\n",
       "      <td>2022-03-28</td>\n",
       "      <td>20</td>\n",
       "      <td>2022-03-28 20:00:00</td>\n",
       "    </tr>\n",
       "    <tr>\n",
       "      <th>7647</th>\n",
       "      <td>7647</td>\n",
       "      <td>2022-03-28</td>\n",
       "      <td>21</td>\n",
       "      <td>2022-03-28 21:00:00</td>\n",
       "    </tr>\n",
       "    <tr>\n",
       "      <th>7648</th>\n",
       "      <td>7648</td>\n",
       "      <td>2022-03-28</td>\n",
       "      <td>22</td>\n",
       "      <td>2022-03-28 22:00:00</td>\n",
       "    </tr>\n",
       "    <tr>\n",
       "      <th>7649</th>\n",
       "      <td>7649</td>\n",
       "      <td>2022-03-28</td>\n",
       "      <td>23</td>\n",
       "      <td>2022-03-28 23:00:00</td>\n",
       "    </tr>\n",
       "  </tbody>\n",
       "</table>\n",
       "<p>7650 rows × 4 columns</p>\n",
       "</div>"
      ],
      "text/plain": [
       "      index        date  hour                  ds\n",
       "0         0  2021-03-01     0 2021-03-01 00:00:00\n",
       "1         1  2021-03-01     1 2021-03-01 01:00:00\n",
       "2         2  2021-03-01     2 2021-03-01 02:00:00\n",
       "3         3  2021-03-01     3 2021-03-01 03:00:00\n",
       "4         4  2021-03-01     5 2021-03-01 05:00:00\n",
       "...     ...         ...   ...                 ...\n",
       "7645   7645  2022-03-28    19 2022-03-28 19:00:00\n",
       "7646   7646  2022-03-28    20 2022-03-28 20:00:00\n",
       "7647   7647  2022-03-28    21 2022-03-28 21:00:00\n",
       "7648   7648  2022-03-28    22 2022-03-28 22:00:00\n",
       "7649   7649  2022-03-28    23 2022-03-28 23:00:00\n",
       "\n",
       "[7650 rows x 4 columns]"
      ]
     },
     "execution_count": 84,
     "metadata": {},
     "output_type": "execute_result"
    }
   ],
   "source": [
    "valid_data"
   ]
  },
  {
   "cell_type": "code",
   "execution_count": 85,
   "id": "c555da21",
   "metadata": {},
   "outputs": [],
   "source": [
    "valid_data.drop('index',axis=1,inplace=True)"
   ]
  },
  {
   "cell_type": "code",
   "execution_count": 86,
   "id": "0910e270",
   "metadata": {},
   "outputs": [
    {
     "data": {
      "text/html": [
       "<div>\n",
       "<style scoped>\n",
       "    .dataframe tbody tr th:only-of-type {\n",
       "        vertical-align: middle;\n",
       "    }\n",
       "\n",
       "    .dataframe tbody tr th {\n",
       "        vertical-align: top;\n",
       "    }\n",
       "\n",
       "    .dataframe thead th {\n",
       "        text-align: right;\n",
       "    }\n",
       "</style>\n",
       "<table border=\"1\" class=\"dataframe\">\n",
       "  <thead>\n",
       "    <tr style=\"text-align: right;\">\n",
       "      <th></th>\n",
       "      <th>date</th>\n",
       "      <th>hour</th>\n",
       "      <th>ds</th>\n",
       "    </tr>\n",
       "  </thead>\n",
       "  <tbody>\n",
       "    <tr>\n",
       "      <th>0</th>\n",
       "      <td>2021-03-01</td>\n",
       "      <td>0</td>\n",
       "      <td>2021-03-01 00:00:00</td>\n",
       "    </tr>\n",
       "    <tr>\n",
       "      <th>1</th>\n",
       "      <td>2021-03-01</td>\n",
       "      <td>1</td>\n",
       "      <td>2021-03-01 01:00:00</td>\n",
       "    </tr>\n",
       "    <tr>\n",
       "      <th>2</th>\n",
       "      <td>2021-03-01</td>\n",
       "      <td>2</td>\n",
       "      <td>2021-03-01 02:00:00</td>\n",
       "    </tr>\n",
       "    <tr>\n",
       "      <th>3</th>\n",
       "      <td>2021-03-01</td>\n",
       "      <td>3</td>\n",
       "      <td>2021-03-01 03:00:00</td>\n",
       "    </tr>\n",
       "    <tr>\n",
       "      <th>4</th>\n",
       "      <td>2021-03-01</td>\n",
       "      <td>5</td>\n",
       "      <td>2021-03-01 05:00:00</td>\n",
       "    </tr>\n",
       "  </tbody>\n",
       "</table>\n",
       "</div>"
      ],
      "text/plain": [
       "         date  hour                  ds\n",
       "0  2021-03-01     0 2021-03-01 00:00:00\n",
       "1  2021-03-01     1 2021-03-01 01:00:00\n",
       "2  2021-03-01     2 2021-03-01 02:00:00\n",
       "3  2021-03-01     3 2021-03-01 03:00:00\n",
       "4  2021-03-01     5 2021-03-01 05:00:00"
      ]
     },
     "execution_count": 86,
     "metadata": {},
     "output_type": "execute_result"
    }
   ],
   "source": [
    "valid_data.head()"
   ]
  },
  {
   "cell_type": "code",
   "execution_count": 87,
   "id": "34458660",
   "metadata": {},
   "outputs": [],
   "source": [
    "valid_data=pd.merge(valid_data,forecast_df,on='ds')"
   ]
  },
  {
   "cell_type": "code",
   "execution_count": 88,
   "id": "38bcf02e",
   "metadata": {},
   "outputs": [],
   "source": [
    "valid_data.drop('ds',axis=1,inplace=True)"
   ]
  },
  {
   "cell_type": "code",
   "execution_count": 89,
   "id": "7c7fb7fa",
   "metadata": {},
   "outputs": [],
   "source": [
    "valid_data.rename(columns={'yhat':'demand'},inplace=True)"
   ]
  },
  {
   "cell_type": "code",
   "execution_count": 90,
   "id": "04a37579",
   "metadata": {},
   "outputs": [
    {
     "data": {
      "text/plain": [
       "Index(['date', 'hour', 'demand'], dtype='object')"
      ]
     },
     "execution_count": 90,
     "metadata": {},
     "output_type": "execute_result"
    }
   ],
   "source": [
    "valid_data.columns"
   ]
  },
  {
   "cell_type": "code",
   "execution_count": 91,
   "id": "2db6cbc7",
   "metadata": {},
   "outputs": [
    {
     "data": {
      "text/html": [
       "<div>\n",
       "<style scoped>\n",
       "    .dataframe tbody tr th:only-of-type {\n",
       "        vertical-align: middle;\n",
       "    }\n",
       "\n",
       "    .dataframe tbody tr th {\n",
       "        vertical-align: top;\n",
       "    }\n",
       "\n",
       "    .dataframe thead th {\n",
       "        text-align: right;\n",
       "    }\n",
       "</style>\n",
       "<table border=\"1\" class=\"dataframe\">\n",
       "  <thead>\n",
       "    <tr style=\"text-align: right;\">\n",
       "      <th></th>\n",
       "      <th>date</th>\n",
       "      <th>hour</th>\n",
       "      <th>demand</th>\n",
       "    </tr>\n",
       "  </thead>\n",
       "  <tbody>\n",
       "    <tr>\n",
       "      <th>0</th>\n",
       "      <td>2021-03-01</td>\n",
       "      <td>0</td>\n",
       "      <td>67.783744</td>\n",
       "    </tr>\n",
       "    <tr>\n",
       "      <th>1</th>\n",
       "      <td>2021-03-01</td>\n",
       "      <td>1</td>\n",
       "      <td>63.979325</td>\n",
       "    </tr>\n",
       "    <tr>\n",
       "      <th>2</th>\n",
       "      <td>2021-03-01</td>\n",
       "      <td>2</td>\n",
       "      <td>59.352700</td>\n",
       "    </tr>\n",
       "    <tr>\n",
       "      <th>3</th>\n",
       "      <td>2021-03-01</td>\n",
       "      <td>3</td>\n",
       "      <td>55.645793</td>\n",
       "    </tr>\n",
       "    <tr>\n",
       "      <th>4</th>\n",
       "      <td>2021-03-01</td>\n",
       "      <td>5</td>\n",
       "      <td>56.552081</td>\n",
       "    </tr>\n",
       "    <tr>\n",
       "      <th>...</th>\n",
       "      <td>...</td>\n",
       "      <td>...</td>\n",
       "      <td>...</td>\n",
       "    </tr>\n",
       "    <tr>\n",
       "      <th>7645</th>\n",
       "      <td>2022-03-28</td>\n",
       "      <td>19</td>\n",
       "      <td>71.552282</td>\n",
       "    </tr>\n",
       "    <tr>\n",
       "      <th>7646</th>\n",
       "      <td>2022-03-28</td>\n",
       "      <td>20</td>\n",
       "      <td>63.353237</td>\n",
       "    </tr>\n",
       "    <tr>\n",
       "      <th>7647</th>\n",
       "      <td>2022-03-28</td>\n",
       "      <td>21</td>\n",
       "      <td>56.337335</td>\n",
       "    </tr>\n",
       "    <tr>\n",
       "      <th>7648</th>\n",
       "      <td>2022-03-28</td>\n",
       "      <td>22</td>\n",
       "      <td>51.844546</td>\n",
       "    </tr>\n",
       "    <tr>\n",
       "      <th>7649</th>\n",
       "      <td>2022-03-28</td>\n",
       "      <td>23</td>\n",
       "      <td>49.394799</td>\n",
       "    </tr>\n",
       "  </tbody>\n",
       "</table>\n",
       "<p>7650 rows × 3 columns</p>\n",
       "</div>"
      ],
      "text/plain": [
       "            date  hour     demand\n",
       "0     2021-03-01     0  67.783744\n",
       "1     2021-03-01     1  63.979325\n",
       "2     2021-03-01     2  59.352700\n",
       "3     2021-03-01     3  55.645793\n",
       "4     2021-03-01     5  56.552081\n",
       "...          ...   ...        ...\n",
       "7645  2022-03-28    19  71.552282\n",
       "7646  2022-03-28    20  63.353237\n",
       "7647  2022-03-28    21  56.337335\n",
       "7648  2022-03-28    22  51.844546\n",
       "7649  2022-03-28    23  49.394799\n",
       "\n",
       "[7650 rows x 3 columns]"
      ]
     },
     "execution_count": 91,
     "metadata": {},
     "output_type": "execute_result"
    }
   ],
   "source": [
    "valid_data"
   ]
  },
  {
   "cell_type": "code",
   "execution_count": 92,
   "id": "c638aff2",
   "metadata": {},
   "outputs": [],
   "source": [
    "# rounding the predicted demand\n",
    "valid_data['demand']=valid_data['demand'].apply(lambda x: round(x))"
   ]
  },
  {
   "cell_type": "code",
   "execution_count": 93,
   "id": "c789b4a7",
   "metadata": {},
   "outputs": [],
   "source": [
    "valid_data.to_csv('submission_final.csv',index=False)"
   ]
  },
  {
   "cell_type": "code",
   "execution_count": null,
   "id": "75cd5894",
   "metadata": {},
   "outputs": [],
   "source": []
  }
 ],
 "metadata": {
  "kernelspec": {
   "display_name": "Python 3",
   "language": "python",
   "name": "python3"
  },
  "language_info": {
   "codemirror_mode": {
    "name": "ipython",
    "version": 3
   },
   "file_extension": ".py",
   "mimetype": "text/x-python",
   "name": "python",
   "nbconvert_exporter": "python",
   "pygments_lexer": "ipython3",
   "version": "3.8.8"
  }
 },
 "nbformat": 4,
 "nbformat_minor": 5
}
